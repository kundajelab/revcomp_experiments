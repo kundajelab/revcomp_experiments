{
 "cells": [
  {
   "cell_type": "markdown",
   "metadata": {
    "colab_type": "text",
    "id": "view-in-github"
   },
   "source": [
    "<a href=\"https://colab.research.google.com/github/kundajelab/revcomp_experiments/blob/master/RevcompSim.ipynb\" target=\"_parent\"><img src=\"https://colab.research.google.com/assets/colab-badge.svg\" alt=\"Open In Colab\"/></a>"
   ]
  },
  {
   "cell_type": "code",
   "execution_count": 1,
   "metadata": {
    "colab": {
     "base_uri": "https://localhost:8080/",
     "height": 1717
    },
    "colab_type": "code",
    "id": "S17huMT9GoRs",
    "outputId": "8d3977a4-adf3-4381-80d9-68abb884a478"
   },
   "outputs": [
    {
     "name": "stdout",
     "output_type": "stream",
     "text": [
      "fatal: destination path 'revcomp_experiments' already exists and is not an empty directory.\n",
      "/content/revcomp_experiments\n",
      "running install\n",
      "running bdist_egg\n",
      "running egg_info\n",
      "writing revcompexp.egg-info/PKG-INFO\n",
      "writing dependency_links to revcompexp.egg-info/dependency_links.txt\n",
      "writing requirements to revcompexp.egg-info/requires.txt\n",
      "writing top-level names to revcompexp.egg-info/top_level.txt\n",
      "writing manifest file 'revcompexp.egg-info/SOURCES.txt'\n",
      "installing library code to build/bdist.linux-x86_64/egg\n",
      "running install_lib\n",
      "warning: install_lib: 'build/lib' does not exist -- no Python modules to install\n",
      "\n",
      "creating build/bdist.linux-x86_64/egg\n",
      "creating build/bdist.linux-x86_64/egg/EGG-INFO\n",
      "installing scripts to build/bdist.linux-x86_64/egg/EGG-INFO/scripts\n",
      "running install_scripts\n",
      "running build_scripts\n",
      "creating build/bdist.linux-x86_64/egg/EGG-INFO/scripts\n",
      "copying build/scripts-3.6/motif_density_and_position_sim.py -> build/bdist.linux-x86_64/egg/EGG-INFO/scripts\n",
      "changing mode of build/bdist.linux-x86_64/egg/EGG-INFO/scripts/motif_density_and_position_sim.py to 755\n",
      "copying revcompexp.egg-info/PKG-INFO -> build/bdist.linux-x86_64/egg/EGG-INFO\n",
      "copying revcompexp.egg-info/SOURCES.txt -> build/bdist.linux-x86_64/egg/EGG-INFO\n",
      "copying revcompexp.egg-info/dependency_links.txt -> build/bdist.linux-x86_64/egg/EGG-INFO\n",
      "copying revcompexp.egg-info/requires.txt -> build/bdist.linux-x86_64/egg/EGG-INFO\n",
      "copying revcompexp.egg-info/top_level.txt -> build/bdist.linux-x86_64/egg/EGG-INFO\n",
      "zip_safe flag not set; analyzing archive contents...\n",
      "creating 'dist/revcompexp-0.1.0.0-py3.6.egg' and adding 'build/bdist.linux-x86_64/egg' to it\n",
      "removing 'build/bdist.linux-x86_64/egg' (and everything under it)\n",
      "Processing revcompexp-0.1.0.0-py3.6.egg\n",
      "Removing /usr/local/lib/python3.6/dist-packages/revcompexp-0.1.0.0-py3.6.egg\n",
      "Copying revcompexp-0.1.0.0-py3.6.egg to /usr/local/lib/python3.6/dist-packages\n",
      "revcompexp 0.1.0.0 is already the active version in easy-install.pth\n",
      "Installing motif_density_and_position_sim.py script to /usr/local/bin\n",
      "\n",
      "Installed /usr/local/lib/python3.6/dist-packages/revcompexp-0.1.0.0-py3.6.egg\n",
      "Processing dependencies for revcompexp==0.1.0.0\n",
      "Searching for scipy==1.3.0\n",
      "Best match: scipy 1.3.0\n",
      "Adding scipy 1.3.0 to easy-install.pth file\n",
      "\n",
      "Using /usr/local/lib/python3.6/dist-packages\n",
      "Searching for matplotlib==3.0.3\n",
      "Best match: matplotlib 3.0.3\n",
      "Adding matplotlib 3.0.3 to easy-install.pth file\n",
      "\n",
      "Using /usr/local/lib/python3.6/dist-packages\n",
      "Searching for numpy==1.16.4\n",
      "Best match: numpy 1.16.4\n",
      "Adding numpy 1.16.4 to easy-install.pth file\n",
      "Installing f2py script to /usr/local/bin\n",
      "Installing f2py3 script to /usr/local/bin\n",
      "Installing f2py3.6 script to /usr/local/bin\n",
      "\n",
      "Using /usr/local/lib/python3.6/dist-packages\n",
      "Searching for simdna==0.4.3.1\n",
      "Best match: simdna 0.4.3.1\n",
      "Processing simdna-0.4.3.1-py3.6.egg\n",
      "simdna 0.4.3.1 is already the active version in easy-install.pth\n",
      "Installing densityMotifSimulation.py script to /usr/local/bin\n",
      "Installing emptyBackground.py script to /usr/local/bin\n",
      "Installing motifGrammarSimulation.py script to /usr/local/bin\n",
      "Installing variableSpacingGrammarSimulation.py script to /usr/local/bin\n",
      "\n",
      "Using /usr/local/lib/python3.6/dist-packages/simdna-0.4.3.1-py3.6.egg\n",
      "Searching for cycler==0.10.0\n",
      "Best match: cycler 0.10.0\n",
      "Adding cycler 0.10.0 to easy-install.pth file\n",
      "\n",
      "Using /usr/local/lib/python3.6/dist-packages\n",
      "Searching for pyparsing==2.4.0\n",
      "Best match: pyparsing 2.4.0\n",
      "Adding pyparsing 2.4.0 to easy-install.pth file\n",
      "\n",
      "Using /usr/local/lib/python3.6/dist-packages\n",
      "Searching for python-dateutil==2.5.3\n",
      "Best match: python-dateutil 2.5.3\n",
      "Adding python-dateutil 2.5.3 to easy-install.pth file\n",
      "\n",
      "Using /usr/local/lib/python3.6/dist-packages\n",
      "Searching for kiwisolver==1.1.0\n",
      "Best match: kiwisolver 1.1.0\n",
      "Adding kiwisolver 1.1.0 to easy-install.pth file\n",
      "\n",
      "Using /usr/local/lib/python3.6/dist-packages\n",
      "Searching for six==1.12.0\n",
      "Best match: six 1.12.0\n",
      "Adding six 1.12.0 to easy-install.pth file\n",
      "\n",
      "Using /usr/local/lib/python3.6/dist-packages\n",
      "Searching for setuptools==41.0.1\n",
      "Best match: setuptools 41.0.1\n",
      "Adding setuptools 41.0.1 to easy-install.pth file\n",
      "Installing easy_install script to /usr/local/bin\n",
      "Installing easy_install-3.6 script to /usr/local/bin\n",
      "\n",
      "Using /usr/local/lib/python3.6/dist-packages\n",
      "Finished processing dependencies for revcompexp==0.1.0.0\n",
      "/content\n"
     ]
    }
   ],
   "source": [
    "!git clone https://github.com/kundajelab/revcomp_experiments.git\n",
    "%cd revcomp_experiments/\n",
    "!python setup.py install\n",
    "%cd .."
   ]
  },
  {
   "cell_type": "code",
   "execution_count": 2,
   "metadata": {
    "colab": {
     "base_uri": "https://localhost:8080/",
     "height": 1907
    },
    "colab_type": "code",
    "id": "bPRNLhtV3THi",
    "outputId": "4d12377f-6b9d-4022-af24-3c1784a40d6c"
   },
   "outputs": [
    {
     "name": "stdout",
     "output_type": "stream",
     "text": [
      "Requirement already satisfied: simdna from git+https://github.com/kundajelab/simdna.git@v0.4.3.1#egg=simdna in /usr/local/lib/python3.6/dist-packages/simdna-0.4.3.1-py3.6.egg (0.4.3.1)\n",
      "Requirement already satisfied: numpy>=1.9 in /usr/local/lib/python3.6/dist-packages (from simdna) (1.16.4)\n",
      "Requirement already satisfied: matplotlib in /usr/local/lib/python3.6/dist-packages (from simdna) (3.0.3)\n",
      "Requirement already satisfied: scipy in /usr/local/lib/python3.6/dist-packages (from simdna) (1.3.0)\n",
      "Requirement already satisfied: python-dateutil>=2.1 in /usr/local/lib/python3.6/dist-packages (from matplotlib->simdna) (2.5.3)\n",
      "Requirement already satisfied: kiwisolver>=1.0.1 in /usr/local/lib/python3.6/dist-packages (from matplotlib->simdna) (1.1.0)\n",
      "Requirement already satisfied: pyparsing!=2.0.4,!=2.1.2,!=2.1.6,>=2.0.1 in /usr/local/lib/python3.6/dist-packages (from matplotlib->simdna) (2.4.0)\n",
      "Requirement already satisfied: cycler>=0.10 in /usr/local/lib/python3.6/dist-packages (from matplotlib->simdna) (0.10.0)\n",
      "Requirement already satisfied: six>=1.5 in /usr/local/lib/python3.6/dist-packages (from python-dateutil>=2.1->matplotlib->simdna) (1.12.0)\n",
      "Requirement already satisfied: setuptools in /usr/local/lib/python3.6/dist-packages (from kiwisolver>=1.0.1->matplotlib->simdna) (41.0.1)\n",
      "fatal: destination path 'revcomp_experiments' already exists and is not an empty directory.\n",
      "/content/revcomp_experiments\n",
      "running install\n",
      "running bdist_egg\n",
      "running egg_info\n",
      "writing revcompexp.egg-info/PKG-INFO\n",
      "writing dependency_links to revcompexp.egg-info/dependency_links.txt\n",
      "writing requirements to revcompexp.egg-info/requires.txt\n",
      "writing top-level names to revcompexp.egg-info/top_level.txt\n",
      "writing manifest file 'revcompexp.egg-info/SOURCES.txt'\n",
      "installing library code to build/bdist.linux-x86_64/egg\n",
      "running install_lib\n",
      "warning: install_lib: 'build/lib' does not exist -- no Python modules to install\n",
      "\n",
      "creating build/bdist.linux-x86_64/egg\n",
      "creating build/bdist.linux-x86_64/egg/EGG-INFO\n",
      "installing scripts to build/bdist.linux-x86_64/egg/EGG-INFO/scripts\n",
      "running install_scripts\n",
      "running build_scripts\n",
      "creating build/bdist.linux-x86_64/egg/EGG-INFO/scripts\n",
      "copying build/scripts-3.6/motif_density_and_position_sim.py -> build/bdist.linux-x86_64/egg/EGG-INFO/scripts\n",
      "changing mode of build/bdist.linux-x86_64/egg/EGG-INFO/scripts/motif_density_and_position_sim.py to 755\n",
      "copying revcompexp.egg-info/PKG-INFO -> build/bdist.linux-x86_64/egg/EGG-INFO\n",
      "copying revcompexp.egg-info/SOURCES.txt -> build/bdist.linux-x86_64/egg/EGG-INFO\n",
      "copying revcompexp.egg-info/dependency_links.txt -> build/bdist.linux-x86_64/egg/EGG-INFO\n",
      "copying revcompexp.egg-info/requires.txt -> build/bdist.linux-x86_64/egg/EGG-INFO\n",
      "copying revcompexp.egg-info/top_level.txt -> build/bdist.linux-x86_64/egg/EGG-INFO\n",
      "zip_safe flag not set; analyzing archive contents...\n",
      "creating 'dist/revcompexp-0.1.0.0-py3.6.egg' and adding 'build/bdist.linux-x86_64/egg' to it\n",
      "removing 'build/bdist.linux-x86_64/egg' (and everything under it)\n",
      "Processing revcompexp-0.1.0.0-py3.6.egg\n",
      "Removing /usr/local/lib/python3.6/dist-packages/revcompexp-0.1.0.0-py3.6.egg\n",
      "Copying revcompexp-0.1.0.0-py3.6.egg to /usr/local/lib/python3.6/dist-packages\n",
      "revcompexp 0.1.0.0 is already the active version in easy-install.pth\n",
      "Installing motif_density_and_position_sim.py script to /usr/local/bin\n",
      "\n",
      "Installed /usr/local/lib/python3.6/dist-packages/revcompexp-0.1.0.0-py3.6.egg\n",
      "Processing dependencies for revcompexp==0.1.0.0\n",
      "Searching for scipy==1.3.0\n",
      "Best match: scipy 1.3.0\n",
      "Adding scipy 1.3.0 to easy-install.pth file\n",
      "\n",
      "Using /usr/local/lib/python3.6/dist-packages\n",
      "Searching for matplotlib==3.0.3\n",
      "Best match: matplotlib 3.0.3\n",
      "Adding matplotlib 3.0.3 to easy-install.pth file\n",
      "\n",
      "Using /usr/local/lib/python3.6/dist-packages\n",
      "Searching for numpy==1.16.4\n",
      "Best match: numpy 1.16.4\n",
      "Adding numpy 1.16.4 to easy-install.pth file\n",
      "Installing f2py script to /usr/local/bin\n",
      "Installing f2py3 script to /usr/local/bin\n",
      "Installing f2py3.6 script to /usr/local/bin\n",
      "\n",
      "Using /usr/local/lib/python3.6/dist-packages\n",
      "Searching for simdna==0.4.3.1\n",
      "Best match: simdna 0.4.3.1\n",
      "Processing simdna-0.4.3.1-py3.6.egg\n",
      "simdna 0.4.3.1 is already the active version in easy-install.pth\n",
      "Installing densityMotifSimulation.py script to /usr/local/bin\n",
      "Installing emptyBackground.py script to /usr/local/bin\n",
      "Installing motifGrammarSimulation.py script to /usr/local/bin\n",
      "Installing variableSpacingGrammarSimulation.py script to /usr/local/bin\n",
      "\n",
      "Using /usr/local/lib/python3.6/dist-packages/simdna-0.4.3.1-py3.6.egg\n",
      "Searching for python-dateutil==2.5.3\n",
      "Best match: python-dateutil 2.5.3\n",
      "Adding python-dateutil 2.5.3 to easy-install.pth file\n",
      "\n",
      "Using /usr/local/lib/python3.6/dist-packages\n",
      "Searching for cycler==0.10.0\n",
      "Best match: cycler 0.10.0\n",
      "Adding cycler 0.10.0 to easy-install.pth file\n",
      "\n",
      "Using /usr/local/lib/python3.6/dist-packages\n",
      "Searching for kiwisolver==1.1.0\n",
      "Best match: kiwisolver 1.1.0\n",
      "Adding kiwisolver 1.1.0 to easy-install.pth file\n",
      "\n",
      "Using /usr/local/lib/python3.6/dist-packages\n",
      "Searching for pyparsing==2.4.0\n",
      "Best match: pyparsing 2.4.0\n",
      "Adding pyparsing 2.4.0 to easy-install.pth file\n",
      "\n",
      "Using /usr/local/lib/python3.6/dist-packages\n",
      "Searching for six==1.12.0\n",
      "Best match: six 1.12.0\n",
      "Adding six 1.12.0 to easy-install.pth file\n",
      "\n",
      "Using /usr/local/lib/python3.6/dist-packages\n",
      "Searching for setuptools==41.0.1\n",
      "Best match: setuptools 41.0.1\n",
      "Adding setuptools 41.0.1 to easy-install.pth file\n",
      "Installing easy_install script to /usr/local/bin\n",
      "Installing easy_install-3.6 script to /usr/local/bin\n",
      "\n",
      "Using /usr/local/lib/python3.6/dist-packages\n",
      "Finished processing dependencies for revcompexp==0.1.0.0\n",
      "/content\n"
     ]
    }
   ],
   "source": [
    "!pip install git+https://github.com/kundajelab/simdna.git@v0.4.3.1#egg=simdna\n",
    "!git clone https://github.com/kundajelab/revcomp_experiments.git\n",
    "%cd revcomp_experiments/\n",
    "!python setup.py install\n",
    "%cd ..\n",
    "import simdna"
   ]
  },
  {
   "cell_type": "code",
   "execution_count": null,
   "metadata": {
    "colab": {},
    "colab_type": "code",
    "id": "ZYh3AI4TGweY"
   },
   "outputs": [],
   "source": [
    "!motif_density_and_position_sim.py --seed 1234 --motifNames GATA_disc1 TAL1_known1 --max-motifs 4 --min-motifs 1 --mean-motifs 2 --zero-prob 0.5 --seqLength 1000 --posSdevInBp 100 --numSeqs 10000"
   ]
  },
  {
   "cell_type": "code",
   "execution_count": 4,
   "metadata": {
    "colab": {
     "base_uri": "https://localhost:8080/",
     "height": 207
    },
    "colab_type": "code",
    "id": "_oE7d95tKVLs",
    "outputId": "efb33c1c-562f-4db1-a31b-c0cd681d4a5c"
   },
   "outputs": [
    {
     "name": "stdout",
     "output_type": "stream",
     "text": [
      "seqName\tsequence\tembeddings\n",
      "synth0\tAGCTTAATTTCGGTCGGATTCGACTGCTCGTCTATTATCTAAAGGGAGCGAGGAGTTTTTAGCACACTAATGCAATCGACCGTGTATTGCAGGTCGGTAGTTTGTAAGATCACTTACATTTTTGAACGAACGTAAATACGATTGACTAGATGAATTTTGGAGTTTTGCTTGCCTATCTTTGCTTCACTCCGAATACGATTTTGTTTACACATGGGCCCCTCATTCGCAACAGTTCACTTCAAAGAAAGATCTGAGGATGGGGATTTGCTGCGCAGTTGACAAGAGGTTTAAGTTGCGTGAATCGGAAGTCTAAAAAGTTGTGGGTATAAAAGCTACTCTGTTTATGATAATTGCAGTTTAGCCATGATTCTGTTTACCATCTGTACACTGTAACTTCTACTTAAGTCAGGATTTATTTTACTTGTGATCTCATAGAAGTGTCAATACAGGGTTATGATGGCCTAACAGATGTAATAAACGATATCTCACTAGCGAATTAGTTGAATAGTAGCAAAAACATTTAGTTACGGGTTCATCATAGCAACAGATGGCCGAATTCAAATACGGCCACTTATATAACTTCAGAAGGATTTCCCCGGATTATAGAACACTGGGAGTAGTTCCTAAACAGACCTGGGATCAGATGGTCGACTTCAGCTGTTCAACGGGATTCTAAGTAGAAATCAGGCTACACACGAAATCCTACGTCTGTTTAAAATTTCGAATATTCTCAGCGCGTGTAAGGTTTGATCGGCACTGAGATTGCCTAGCAATTTCAGGTGATTATATTTGCGATACTCGATGCATAAAGGTATACTAATTAGCTAAACAAAATATCTACGGCCCCCCGTGCATAGTTCATGTGCTTGTATTCTGCGTACTGCACTGCGATGTTCTTGGTCATGCATGACGCCCGTTTGGTGTTTGACAATAAGGCCAAAATCTTTTGCTAACCTGAGTATATGCATTGCAATCCATTGTATTCTAGACCAACCTTAGC\tpos-539_TAL1_known1-AGCAACAGATGGCCGA,pos-372_revComp-TAL1_known1-TTTACCATCTGTACAC,pos-635_TAL1_known1-GGGATCAGATGGTCGA,pos-460_TAL1_known1-CCTAACAGATGTAATA\n",
      "synth1\tCCATTTGCTTCCATAAATTGGCAGCAGGAACGATAAAATTAACTTATTGCAGGAGACTCAAACGATTACCGCCACACTTATCCAGAAATCGTAACCTTCAAAATTAGTCGAGATTAGTCGACTCCAAGGATACCGGTACGGTAGACTAATGTTTTGATGTCATTTCAAGATACTGCGCATTTAACGAATTTATAATTCGGAATGTATATATCCAGAACTCTATTATTTAATAAAATCTAATCACGCACTAGTTGAAACCGAAAGACTTAGATATACCATATAATCTTTTTATGTGGGGATATGAAGTGTCCGTAGATAAGAGAATTCCCAGTACCGCAGAAATTATGAAATCGCGTGTTGGGATATAACAAGCAGACAATCCTTGTTCGAACTCGGGTACGAGTTTTCAGACATATTATAACACGATAACGGTGAGTTAGAGGACGTACGGAGTTAAGGATAATCCCTAAGACCGCCAAGCTTTTATGGCGAACTTTATGCTACTATCATATATCCATTCTCGAAATTCTGTAAGTATACCATGAGGCATCAGGAATAATTTGTCCCCTAAATGTTAAAGGTTAAAAACAATTTAGGTCATTTTCGGCCCTCGAGGGGGCTGCCTTAAAGAGGAGTCACACGAACGCTCAGTCAGTATAAATGGGTAGAAAGATCGCTTTAGAAAACAGTTGAAAAAAACGAAGAACGTTTCCGTAAACAGTCAATCTAATATTAACAACATTTTGATTTTTATTTAAAAAAATTAATGTTAGTAGTAACGGTCCCCATAATTTTAGAGACTCCTGATAGGCAGCTAGGAATAAAAGTTCACTACTTTGGAAATCAATCTTTCGCTGCCGGATCCCGATTAGTTGCTTTTTTCTAATGTCGAGACAATTGATTTTTCCTTAACTGAATGACTTTTTTGCATTAAGTCTGTCGATGAGTTTGTAACTACTGGACCGCAATCTCTGAGAGGGCATTACCGGTAGATAACACC\t\n",
      "synth2\tTTTTGGCTATCTGTAGTGGCTAAGCCGTTTTGGAGTACATTAAGACATTTGAAACACGTGAACGTATTCTATCTGTTTATTATCTCTTTTCTTCCCATTCGACACGCTATGCTTTGGTGGATTGGCATATCATCCGTCGCAAACTATGTATGAACCTGATGAGCCATTACCAACGATAATTTTTCGATAATGCGTTTTCACTGTTCGAATGCAAGCCTTTACAGACCCTTTAATATTCAGTTAATTATTATATGCAGGGGATCTCGAAAAACCTCTGTCGTGCGCTTGTTGTTTAACAAAAGATTTTATGAACGGTTTACCGCAATAATTAAAGTTAGCACAATTCTATAGCTACGAGACAATAGTCGCGTAGGAAAAGGTCGTCATGCACAGAAACAATCGGAAGGAATTAGGAACGTACTTAGCCTGTCGTGAATGTGTACTGTGTTTATGGCGTGCGATCTCATAAACAAAATAGATACATTCATGAGTTAAGACATTGTCAATTGTTCAATAGGCAAGTGCTAGGTTTCAGTTGGAATAATATCGGCTCTTGGGGTAAATGTAAGGCAAAATGCCCATAATTTCCGCTTTAATCTTCTGAGGTACCGGCATGAGTCTGTCCACCCTCGCTAGGTGACCATTCATACTAAGGCTGCCACGGTTGGCATATAATGGATGGGCAAGACTTCACACGTGAGCCTTGTGTGTATGAATAAAAACTTTCATGGGTGAACATACGAACTCCGATTTCGGTATATTCAGAAATAATTCATAAGCTTTTTGTGACGGCCATTGATGCCGATGAGTATCGGTAATTTACAAGTAAGACCTCACTATTAATCATATAATCCACTGGAGCTTTCTTCCTTGATTCATCGTTAAGCTATCGGCATTCCCCTGCAGCTAAATGCACTCTTGTCTCAAAACCATGGTTGAGTTATGGTGTGGGTACTTATAGATGATGCAAACTAGCAGAATAACAGGACACGTGTCGCGA\t\n",
      "synth3\tTACTTCACCATATTCCACGCACCTCAAGTTAGGGGCTCATGTTACTCATGGGGATACCCAATTGTTCCTCTATGAGTGTAAACTACCGAGAGGGTAATGGTGATATGGGAGTATATCTCCTGTTCTGTTAAGCGGTGCCCAAGAATTGGGTTGAAATGCTGGATTCGGGTCGTATGGATTATGACAAGTGGGTCCCCGCCTAGGAGTGAACCATACTTCCAACGAACTGAGGCATGGGATAATGCTTTAATATAGCACCCACACTAGCCGACCAGATGTAACGATGCCGGACCTGTAAAAGATCGAAATTTGTAGGCTTTACTGTTTTCATGGGATAAAACGCGGTGTGTAATAATTGCTTTTTTCGGATGACATAAAATATAACTAATCCAGTTAGATGAGGCGAAAGCTACGGGCGGTCAAAAGATAAGGGGTACTCAGCGCTAACAAAGTTTTTTACTAGTAAGTTTAATTGCAGGTTATATCTCAATGTGCGAGCATCTGTTCCAAAATACTTCGGATTTCATGAGTTGAATAACCTGAAACCCTACCGGTATAAGAATACGGACTATATCAATATCTTAACAGATGTTCAATGAATTTAGTGTTAACCATCTGTGCCCACCCACTTAATGACTGTTGCTATCACGGCGGAAGTATGTTAACAGGCTAAGATAAAGTCAAACTCCAGTGCGTATGGGCCTCATTATGAGGAACGGGGTTCGTTCCCTCGAACGGGCTCGTTCGGATATACTGAAGCTTTCACATTGAGGCATACGGTTCACTCGCTTACGATCAGATAGCCGTATTGCGATTCTGACTTCTGAGTAAATCTGCACGTGATCTAGTGAAATATTGTAGGACTATTGTTTGCAAGGCTAGGAACCACTTTTACATAACTTAACTCTAATAGTTCTGGCCAATAAAGATAAACCCGTCTTTGGAAATGATGACGGCTTAACATGGCCGTATCCACGTCTAACAGTCGTTTTTTTGGGAG\tpos-422_GATA_disc1-AAAGATAAGG,pos-580_TAL1_known1-CTTAACAGATGTTCAA,pos-493_revComp-TAL1_known1-GCGAGCATCTGTTCCA,pos-267_TAL1_known1-CCGACCAGATGTAACG,pos-607_revComp-TAL1_known1-TTAACCATCTGTGCCC\n",
      "synth4\tTCGTTTCGCATCACTAAACATAAAATCCAATGTTGCGAGTACAATATAGTCCTCTTACAAATGGTATGTGGTGAGTATCCTTACTATGTGAAACGACGGCCTTAGTCTATTCGTGTATATTGTCGCATTGTTGTACTCTAACGGGTCACACCGTTCCGTAGTCGTTTCCTTGGATGAAGCTAGTGCCTGCAGCATCAGCCGAGCCATAGAAGGAACTGACATATTATATTAGTCTTCTGTATAACAATTGTAAAGAAAATGAAGCCCACTGCAATCCATAAACGTGATCAAGGATATGAATAAAGAAAGAAAAACGATAATGCGATATTTGAGTCAACGGTCCTGGTGTTGCAGAATATAGAGGCATTTATTAGTAACGTGCTGTGATCTGTTGCAATATAAACTAGTTTTCTCTGTTTAACATAACGCAGGATTAGAAGGATGCGTCACGCTGATATATGGGTTGTGTAACGTTGACAAAAGGTCGACTCCGTGGATACGAGCTTAAGAAGAGGCCAAAAGAAAACTCTGATGACTCGTACAAACCATCTATGTTAAAGTATAACTGACTTACCTAACGATTGTCACTGAAGGGGTGAACAAGGCCGGCATGTTTACAACAGTGAAATGCGCGAAATGTCTATTATATAAATTTCTTATGTACATATATCCGGATAGACAATATATCACCATAACCGACGACGGAGATGAAAGGGTTAAGAACGAGCATACGCTGAGGCAATTCGCCATTTATTCCTAATATCGGAGATATCGACCCTAATGTTCTCTCACTCTGGCAATAGAGTGCTATGTTCAGCACATTGAGTCAGGTCCTAAAAGAACAGTGTATCCAAAGATAGAGCAAACAGTTCGTACATATGACAGACTAGTCTTAAACATCGAACTTGAGGACCCGTGTAATTACTTATAAAAAGATCTAAACCGCTCGCTTGATAAAATTAAGTACAAATTTACGAACAAGAGCATGAATTACCCTGAC\t\n",
      "synth5\tGGTGATTCAAATTCATTTCACTTTGCACTGAAAAGGCACGAAGGACTTCTGTCTAGACTAAGGTCCGCCCCGAAAAACTCTATTGTTCAAGGCAGTTGATCGCGCATTAAACTCAGAAAATAATGTACTTAAAACATGCACTACCTCTAATCGCTTGCTGCTAATACGAAACAGACCATGTTGCGACGCTAATGTTCAAGCTAAAATCTTGGGTCTGCTTTTAGTTTTTCCTAGTACAGAATCCTCCAAATCAGTCAATGGGCGTCTGACAGTGGAAGGGGGCTGTTATCCAATCTTCCGAACTATATGGAATACGACGGCTTATTTGTCTAAACTATTACTATTCACGTTGGATAATGATCATTAAGCACCCTACACTGTGTTCGATGAGGTTGATTACTGAATAATTATCTTATGCTACACAGGGCCTGAATAATTTTATCGATATTGACTTTTAGTAATGGTAGAAACATATTTATTTACAACGTACAGCCTGGAATCTGTGGTCTGGATACGGAAGATGCTCGGAGTTGAATGTGATGATCTTCCGAAAATAATATCCTGTGTCCGATTAGATACCCTACGACATTTGTTTCTGATACGGCTGGTCAAAGCTTCTGAGCGTTCTGTCTTTGAGAACCAGGGCATGTCCGGTCAGGTATAGATGTTTCATTGGGGTAGGATCCTATGTTATCTAATTTGGGGTCATAACGCTAGCGAAGACTAAGATCGCCATCATCGGAGATGACAGGTTGGGAGATACGCGAATGATTTCAGAGAGAACGTACAGCTTTCACTAAGTTTCTTAAATAACCATGTCTCCACACCCATCTTCAGTTCCAAGACAATGATTAGAGCTTGGGTCTTGCACGCTGGTGCAACGCAAGGAAATTAATAACAGTCTAGTTGAACTTACTGACGCAGGCTGTAACAATTTAATGTAGAATTAACAAAGATTTTCACGTATATCTAATAGTTTATTGTTGAGGGTTTGCTCAGT\tpos-594_GATA_disc1-TCTGATACGG\n",
      "synth6\tTTGCTTCCCAAATTATTCCTTGATCATGTACAAAACTAACATGTCGCCGATAAATACTAAGTGAAGTAAAAAAGCGAAATTATAGGATTAGCGGAAGATGGTGCGCTCCATATTTGCAAATACACACCGGTTGAATTAACAGCTCTATCTCGTGTAAGTGGATTTTCGGGGAAGTAACATGCTAACGGATTAGCAATGCCGTATGTGGTCATCCAATGATGATAACCACTGCATGTTGGGTTCGTCTATTGGTTAATTCACGGTGGTACAGGTAAAGTCAAAATTCTTCGGGAACAGATGTTCAGGTCATATGCGGTAAATTTCGGAGGCACCTCGGGGTCCGCGATCGAACTGCTGCAGCTACTTCACGTAGCTATTGCATATTTGTATGCTAATTCGTCCAAAAACGTTAAGACAGATTTCATGGGACGCGGATTTAACAGCCTTTCTAGGCTGTCCTACAACATTAAGTAGATAGATTTGAGAGCTGCGTGTTTTGCCACCCACAATTGCCATATCCGGACATTGTGTTGGACACCTGAAAAGTACAGTTGATACTTTGAATAGCCCACTTCGCGCTATATCCACCAAACAGATGGTCGGCTGAAAAAGTTTACCCAAGAATCTAGCGATCTAAACAGCGCCGTAGTTTCGTTCTTTCTTCTCGTAAACCAAGAGTCGCAACACAAGTCAGTTTAGTTAAAACCTGCGAGTGTCGGTCAATTACCAGCTCACAATGCTTAATTACATACTATTTTAATTCAATCAAAAGTAGCTCTCTGCGAATCTAGTAGACGAGTTCATGTGCCTCGCGGCATTAAAACAGACAGTTATTGATAATTCTGGGTGTGTACTTCATCCCTTTAAGAGGTAGTATTAAGAAATTGTCACGTCGAACCCGATTAGGTCTTCTGGCGGATAGAGTAACGTTCGACCCGGTTGTACAATTGGACACCCGACCCGCATCAACGCTAATAAACAAACATTGTTTTAGTTTTTT\tpos-587_TAL1_known1-CCAAACAGATGGTCGG,pos-289_TAL1_known1-GGGAACAGATGTTCAG\n",
      "synth7\tACCGTATGCGATCTACATGATGCACTCATACCTCCTCATGTCGGCTTATTTTTATGGTATACGGTGTTCTTGACGAAATGGTCAGGGGGGGTTTGTCGGTTGTAGCTATTCCCCGCTATTGATCTAAACCCCGTACGCATGATATTCTTGGGGCTCCTTCAGAGGAAGTTTTTATGCCTTATAGCCGTTGAGAACAAAATACATTAATCCTTAATTACCCAGAATGACCCACAATGATCAACGAGACCACAATATCGCTCGATCAGCGAAGCAGTGTTTGATGTATGTCTTCGAGGTACGTTTCAAGTGGTTTGGCTTTCTCTGCAAGAGATGTCGTCATTGATCGCTCTACGCATTGTTCAATCGCGCTAGCTGCGCTATGTACTACCTGAGAAGAGATGATAACTCAAAGAATACGAAGGAATATCCAATATCTGCAGAAGGTTTAGCCTTATAATATCGCAGATAAGAACGCGACGTGATTTTGCATCCGCACCTGATAAGCGTATATCTTTGGTTGGAATAACTGACGTTATCTTATCTCTGTGAAAAATTGCTTGGATCATAATCAACCTGGGGTACGTAAGAAGTCAATATTGTATTATTTAGTCCTCCGGAGATCGGGGGGCCATCTGTTGCGGTTAATGATGATCGCTATGTTGGAATTATAGTCGTTTCCTAATTAAGTTTTTCTAATTATAGGGAATGCAGAGGGATGCGCTTTCTCAGCACCAACAACTAGAAAAAACCAACTACGAATCAAAATGAAATCGCAGCATTAGAATTTTGTCACTCAGGCAGTACGCGCGAATAATTAACGACTGACTTAACTGCCACTGTGTCAAAATTGTGATACGACTTTGTTTGAAAACGAAAGCAGATCGTCTCGCTCTTTTTTGCTCACTTTAGCAAACTACCTCATTACAGTATTTGACTAAAAAAGCTTAGGATGATAACGAGCTTTAGCTCAAACATATAAATGGGCCTTCAACATATCTTA\tpos-461_GATA_disc1-GCAGATAAGA,pos-495_GATA_disc1-CCTGATAAGC,pos-535_revComp-GATA_disc1-TCTTATCTCT,pos-624_revComp-TAL1_known1-GGGGCCATCTGTTGCG\n",
      "synth8\tAAGTTTGGTCAAATTATACTAGATTAATCAAAGACGACTTTTACAATGCCTATCATGCAATTACAGTTTGTATCTATTGATTTTTAAGTTATGGAGCGAATCTGAAACAAACACTGAGGAATGACATAAAACAAATGGGTTCGCTCGAGATTTCGATCTGAATGGTAATCGGTCTCCTGCGAGCGAAAACCAAAGCTGTTATGCCAACTAAACATTTGCATAGTAGCTTGTCAATGGCATCGGGACAAATTATGCTGTTTGACTGAGTTGTTTAAATTTAATAGACGGTAATCCACTCATAGGAATTAGTTATTGTGATTCTTATACGTTTTCGCATTTTACAGATTAGAGATATACTCTTATACAGAGGTAGATCATTGATACATATAGACGTCCCACTCAGGGTTATATTTTCAAAAAACCCGGAAAGTATTTCTTTGTGTGAATAAAGGAAGCGAGATAATTGAGCCACCGCATGATTACGAAGTAAGTAGATGGAGCAACGTGTAGGTTATCTAAATAATGAGGGTGATACTTTAAATACTCAGATGATATTTCTGCCCCTCTATGACGCTAATATCACACACTTTCGTTTCATGGTGACCCGTGGTTAATGTTGAAGATTCTTTTCCTGATAATGATAAAGAAGTCCAATTACCGTTCAGACAACTGTAGTTTTGTTATCAAATTTTAGTCACGTTCCCATACGAATAGTTAAACGAGCATGATGTTATGCCTTCATTAGGTTACTGACATCCTTACATAAGAAGGAACACCCTTGGTACATATACCTTGAGAGAAAGACGGGCTGGGTTGATGAGTCTGGATCTACTTGGAGTGGAAGTTGCAATTATGCTCCGGTAATTACAAATTTTATCATAACCCGCCACTCTATAATTCACTGAGTCGAAGTTTCTTAAAAGAGCCACGTATAGGTTGTCAGTGTCTCGTGGACCTACGAATCTTTCTAGCAACTACTAAGAGGGACACTGTAGGGTTA\tpos-340_GATA_disc1-ACAGATTAGA,pos-474_GATA_disc1-CATGATTACG\n"
     ]
    }
   ],
   "source": [
    "!head DensityEmbedding_motifs-GATA_disc1+TAL1_known1_min-1_max-4_mean-2_zeroProb-0p5_seqLength-1000_posSdevInBp-100_numSeqs-10000.simdata"
   ]
  },
  {
   "cell_type": "code",
   "execution_count": 5,
   "metadata": {
    "colab": {
     "base_uri": "https://localhost:8080/",
     "height": 102
    },
    "colab_type": "code",
    "id": "M_3QdsmLKRcv",
    "outputId": "62f28662-3997-464f-e5c9-9ce72c648978"
   },
   "outputs": [
    {
     "name": "stdout",
     "output_type": "stream",
     "text": [
      "DensityEmbedding_motifs-GATA_disc1+TAL1_known1_min-1_max-4_mean-2_zeroProb-0p5_seqLength-1000_posSdevInBp-100_numSeqs-10000.fa\n",
      "DensityEmbedding_motifs-GATA_disc1+TAL1_known1_min-1_max-4_mean-2_zeroProb-0p5_seqLength-1000_posSdevInBp-100_numSeqs-10000_info.txt\n",
      "DensityEmbedding_motifs-GATA_disc1+TAL1_known1_min-1_max-4_mean-2_zeroProb-0p5_seqLength-1000_posSdevInBp-100_numSeqs-10000.simdata\n",
      "revcomp_experiments\n",
      "sample_data\n"
     ]
    }
   ],
   "source": [
    "!ls"
   ]
  },
  {
   "cell_type": "code",
   "execution_count": null,
   "metadata": {
    "colab": {},
    "colab_type": "code",
    "id": "MLTlTDaq1qla"
   },
   "outputs": [],
   "source": [
    "# from simdna.synthetic.core import read_simdata_file"
   ]
  },
  {
   "cell_type": "code",
   "execution_count": null,
   "metadata": {
    "cellView": "both",
    "colab": {},
    "colab_type": "code",
    "id": "nZ8D_Krb89qv"
   },
   "outputs": [],
   "source": [
    "#@title\n",
    "from __future__ import absolute_import, division, print_function\n",
    "from collections import OrderedDict\n",
    "import re\n",
    "import gzip\n",
    "import os\n",
    "import json\n",
    "from simdna import random\n",
    "\n",
    "\n",
    "DEFAULT_LETTER_TO_INDEX = {'A': 0, 'C': 1, 'G': 2, 'T': 3}\n",
    "\n",
    "\n",
    "DEFAULT_BACKGROUND_FREQ = OrderedDict(\n",
    "    [('A', 0.3), ('C', 0.2), ('G', 0.2), ('T', 0.3)])\n",
    "\n",
    "\n",
    "DEFAULT_DINUC_FREQ = OrderedDict([\n",
    " ('AA',0.095),\n",
    " ('AC',0.050),\n",
    " ('AG',0.071),\n",
    " ('AT',0.075),\n",
    " ('CA',0.073),\n",
    " ('CC',0.054),\n",
    " ('CG',0.010),\n",
    " ('CT',0.072),\n",
    " ('GA',0.060),\n",
    " ('GC',0.044),\n",
    " ('GG',0.054),\n",
    " ('GT',0.050),\n",
    " ('TA',0.064),\n",
    " ('TC',0.060),\n",
    " ('TG',0.073),\n",
    " ('TT',0.095),\n",
    "])\n",
    "\n",
    "\n",
    "def get_file_handle(filename,mode=\"r\"):\n",
    "    if (re.search('.gz$',filename) or re.search('.gzip',filename)):\n",
    "        if (mode==\"r\"):\n",
    "            mode=\"rb\";\n",
    "        elif (mode==\"w\"):\n",
    "            #I think write will actually append if the file already\n",
    "            #exists...so you want to remove it if it exists\n",
    "            if os.path.isfile(filename):\n",
    "                os.remove(filename);\n",
    "        return gzip.open(filename,mode)\n",
    "    else:\n",
    "        return open(filename,mode) \n",
    "\n",
    "\n",
    "def default_tab_seppd(s):\n",
    "    s = trim_newline(s)\n",
    "    s = split_by_delimiter(s, \"\\t\")\n",
    "    return s\n",
    "\n",
    "\n",
    "def trim_newline(s):\n",
    "    return s.rstrip('\\r\\n')\n",
    "\n",
    "\n",
    "def split_by_delimiter(s, delimiter):\n",
    "    return s.split(delimiter)\n",
    "\n",
    "\n",
    "def perform_action_on_each_line_of_file(\n",
    "    file_handle\n",
    "    #should be a function that accepts the\n",
    "    #preprocessed/filtered line and the line number\n",
    "    , action\n",
    "    , transformation=default_tab_seppd\n",
    "    , ignore_input_title=False\n",
    "    , progress_update=None\n",
    "    , progress_update_file_name=None):\n",
    "\n",
    "    i = 0;\n",
    "    for line in file_handle:\n",
    "        i += 1;\n",
    "        line = line.decode(\"utf-8\")\n",
    "        process_line(line, i, ignore_input_title,\n",
    "                     transformation, action, progress_update)\n",
    "        print_progress(progress_update, i, progress_update_file_name)\n",
    "\n",
    "    file_handle.close();\n",
    "\n",
    "\n",
    "def process_line(line, i, ignore_input_title,\n",
    "                 transformation, action, progress_update=None):\n",
    "    if (i > 1 or (ignore_input_title==False)):\n",
    "        action(transformation(line),i)\n",
    "\n",
    "\n",
    "def print_progress(progress_update, i, file_name=None):\n",
    "    if progress_update is not None:\n",
    "        if (i%progress_update == 0):\n",
    "            print (\"Processed \"+str(i)+\" lines\"\n",
    "                   +str(\"\" if file_name is None else \" of \"+file_name))\n",
    "\n",
    "\n",
    "class VariableWrapper():\n",
    "    \"\"\" For when I want reference-type access to an immutable\"\"\"\n",
    "    def __init__(self, var):\n",
    "        self.var = var   \n",
    "\n",
    "\n",
    "def enum(**enums):\n",
    "    class Enum(object):\n",
    "        pass\n",
    "    to_return = Enum\n",
    "    for key,val in enums.items():\n",
    "        if hasattr(val, '__call__'): \n",
    "            setattr(to_return, key, staticmethod(val))\n",
    "        else:\n",
    "            setattr(to_return, key, val)\n",
    "    to_return.vals = [x for x in enums.values()]\n",
    "    to_return.the_dict = enums\n",
    "    return to_return\n",
    "\n",
    "\n",
    "def combine_enums(*enums):\n",
    "    new_enum_dict = OrderedDict()\n",
    "    for an_enum in enums:\n",
    "        new_enum_dict.update(an_enum.the_dict)\n",
    "    return enum(**new_enum_dict)\n",
    "\n",
    "\n",
    "def sampleFromProbsArr(arrWithProbs):\n",
    "    \"\"\"Samples from a discrete distribution.\n",
    "    Arguments:\n",
    "        arrWithProbs: array of probabilities\n",
    "    Returns:\n",
    "        an index, sampled with the probability of that index in\n",
    "    array of probabilities.\n",
    "    \"\"\"\n",
    "    randNum = random.random()\n",
    "    cdfSoFar = 0\n",
    "    for (idx, prob) in enumerate(arrWithProbs):\n",
    "        cdfSoFar += prob\n",
    "        if (cdfSoFar >= randNum or idx == (len(arrWithProbs) - 1)):  # need the\n",
    "            # letterIdx==(len(row)-1) clause because of potential floating point errors\n",
    "            # that mean arrWithProbs doesn't sum to 1\n",
    "            return idx\n",
    "\n",
    "\n",
    "reverseComplementLookup = {'A': 'T', 'T': 'A', 'G': 'C', 'C': 'G',\n",
    "                           'a': 't', 't': 'a', 'g': 'c', 'c': 'g', 'N': 'N', 'n': 'n'}\n",
    "\n",
    "\n",
    "def reverseComplement(sequence):\n",
    "    reversedSequence = sequence[::-1]\n",
    "    reverseComplemented = \"\".join(\n",
    "        [reverseComplementLookup[x] for x in reversedSequence])\n",
    "    return reverseComplemented\n",
    "\n",
    "\n",
    "def sampleWithoutReplacement(arr, numToSample):\n",
    "    arrayCopy = [x for x in arr]\n",
    "    for i in range(numToSample):\n",
    "        randomIndex = int(random.random() * (len(arrayCopy) - i)) + i\n",
    "        swapIndices(arrayCopy, i, randomIndex)\n",
    "    return arrayCopy[0:numToSample]\n",
    "\n",
    "\n",
    "def swapIndices(arr, idx1, idx2):\n",
    "    temp = arr[idx1]\n",
    "    arr[idx1] = arr[idx2]\n",
    "    arr[idx2] = temp\n",
    "\n",
    "\n",
    "def get_file_name_parts(file_name):\n",
    "    p = re.compile(r\"^(.*/)?([^\\./]+)(\\.[^/]*)?$\")\n",
    "    m = p.search(file_name)\n",
    "    return FileNameParts(m.group(1), m.group(2), m.group(3))\n",
    "\n",
    "\n",
    "class FileNameParts(object):\n",
    "\n",
    "    def __init__(self, directory, core_file_name, extension):\n",
    "        self.directory = directory if (directory is not None) else os.getcwd()\n",
    "        self.core_file_name = core_file_name\n",
    "        self.extension = extension\n",
    "\n",
    "    def get_full_path(self):\n",
    "        return self.directory+\"/\"+self.file_name\n",
    "\n",
    "    def get_core_file_name_and_extension(self):\n",
    "        return self.core_file_name+self.extension\n",
    "\n",
    "    def get_transformed_core_file_name(self, transformation, extension=None):\n",
    "        to_return = transformation(self.core_file_name)\n",
    "        if (extension is not None):\n",
    "            to_return = to_return + extension\n",
    "        else:\n",
    "            if (self.extension is not None):\n",
    "                to_return = to_return + self.extension\n",
    "        return to_return\n",
    "\n",
    "    def get_transformed_file_path(self, transformation, extension=None):\n",
    "        return (self.directory+\"/\"+\n",
    "                self.get_transformed_core_file_name(transformation,\n",
    "                                                    extension=extension))\n",
    "\n",
    "\n",
    "def format_as_json(jsonable_data):\n",
    "    return json.dumps(jsonable_data, indent=4, separators=(',', ': '))\n",
    "\n",
    "\n",
    "class ArgumentToAdd(object):\n",
    "    \"\"\"\n",
    "        Class to append runtime arguments to a string\n",
    "        to facilitate auto-generation of output file names.\n",
    "    \"\"\"\n",
    "    def __init__(self, val, argumentName=None, argNameAndValSep=\"-\"):\n",
    "        self.val = val;\n",
    "        self.argumentName = argumentName;\n",
    "        self.argNameAndValSep = argNameAndValSep;\n",
    "    def argNamePrefix(self):\n",
    "        return (\"\" if self.argumentName is None else self.argumentName+str(self.argNameAndValSep))\n",
    "    def transform(self):\n",
    "        string = (','.join([str(el) for el in self.val])\\\n",
    "                   if (isinstance(self.val, str)==False and\n",
    "                       hasattr(self.val,\"__len__\")) else str(self.val))\n",
    "        return self.argNamePrefix()+string;\n",
    "        # return self.argNamePrefix()+str(self.val).replace(\".\",\"p\");\n",
    "\n",
    "\n",
    "class FloatArgument(ArgumentToAdd):\n",
    "    \"\"\"\n",
    "       Replace the period with a p \n",
    "    \"\"\"\n",
    "    def __init__(self, val, argumentName=None, argNameAndValSep=\"-\"):\n",
    "        self.val = val;\n",
    "        self.argumentName = argumentName;\n",
    "        self.argNameAndValSep = argNameAndValSep;\n",
    "    def argNamePrefix(self):\n",
    "        return (\"\" if self.argumentName is None else self.argumentName+str(self.argNameAndValSep))\n",
    "    def transform(self):\n",
    "        string = str(self.val)\n",
    "        string = string.replace(\".\",\"p\")\n",
    "        return self.argNamePrefix()+string\n",
    "\n",
    "\n",
    "class BooleanArgument(ArgumentToAdd):\n",
    "\n",
    "    def transform(self):\n",
    "        assert self.val  # should be True if you're calling transformation\n",
    "        return self.argumentName\n",
    "\n",
    "\n",
    "class CoreFileNameArgument(ArgumentToAdd):\n",
    "\n",
    "    def transform(self):\n",
    "        import fileProcessing as fp\n",
    "        return self.argNamePrefix() + fp.getCoreFileName(self.val)\n",
    "\n",
    "\n",
    "class ArrArgument(ArgumentToAdd):\n",
    "\n",
    "    def __init__(self, val, argumentName, sep=\"+\", toStringFunc=str):\n",
    "        super(ArrArgument, self).__init__(val, argumentName)\n",
    "        self.sep = sep\n",
    "        self.toStringFunc = toStringFunc\n",
    "\n",
    "    def transform(self):\n",
    "        return self.argNamePrefix() + self.sep.join([self.toStringFunc(x) for x in self.val])\n",
    "\n",
    "\n",
    "class ArrOfFileNamesArgument(ArrArgument):\n",
    "\n",
    "    def __init__(self, val, argumentName, sep=\"+\"):\n",
    "        import fileProcessing as fp\n",
    "        super(ArrOfFileNamesArgument, self).__init__(val, argumentName,\n",
    "                                                     sep, toStringFunc=lambda x: fp.getCoreFileName(x))\n",
    "\n",
    "\n",
    "def addArguments(string, args, joiner=\"_\"):\n",
    "    \"\"\"\n",
    "        args is an array of ArgumentToAdd.\n",
    "    \"\"\"\n",
    "    for arg in args:\n",
    "        string = string + (\"\" if arg.val is None or arg.val is False or (hasattr(\n",
    "            arg.val, \"__len__\") and len(arg.val) == 0) else joiner + arg.transform())\n",
    "    return string\n",
    "class Embedding(object):\n",
    "    \"\"\"Represents something that has been embedded in a sequence.\n",
    "    Think of this as a combination of an embeddable + a start position.\n",
    "    Arguments:\n",
    "        what: object representing the thing that has been embedded.\\\n",
    "            Should have`` __str__`` and ``__len__`` defined.\\\n",
    "            Often is an instance of :class:`.AbstractEmbeddable`\n",
    "        startPos: int, the position relative to the start of the parent\\\n",
    "            sequence at which seq has been embedded\n",
    "    \"\"\"\n",
    "\n",
    "    def __init__(self, what, startPos):\n",
    "        self.what = what\n",
    "        self.startPos = startPos\n",
    "\n",
    "    def __str__(self):\n",
    "        return \"pos-\" + str(self.startPos) + \"_\" + str(self.what)\n",
    "\n",
    "    @classmethod\n",
    "    def fromString(cls, string, whatClass=None):\n",
    "        \"\"\"Recreate an :class:`.Embedding` object from a string.\n",
    "        Arguments:\n",
    "            string: assumed to have format:\\\n",
    "                ``description[-|_]startPos[-|_]whatString``, where\n",
    "                ``whatString`` will be provided to ``whatClass``\n",
    "            whatClass: the class (usually a :class:`.AbstractEmbeddable`) that\\\n",
    "                will be used to instantiate the what from the whatString\n",
    "        Returns:\n",
    "            The Embedding class called with\n",
    "            ``what=whatClass.fromString(whatString)`` and\n",
    "            ``startPos=int(startPos)``\n",
    "        \"\"\"\n",
    "        if (whatClass is None):\n",
    "            from simdna.synthetic.embeddables import StringEmbeddable\n",
    "            whatClass = StringEmbeddable\n",
    "        # was printed out as pos-[startPos]_[what], but the\n",
    "        #[what] may contain underscores, hence the maxsplit\n",
    "        # to avoid splitting on them.\n",
    "        p = re.compile(r\"pos\\-(\\d+)_(.*)$\")\n",
    "        m = p.search(string)\n",
    "        startPos = m.group(1)\n",
    "        whatString = m.group(2) \n",
    "        return cls(what=whatClass.fromString(whatString),\n",
    "                   startPos=int(startPos))\n",
    "      \n",
    "def getEmbeddingsFromString(string):\n",
    "    \"\"\"Get a series of :class:`.Embedding` objects from a string.\n",
    "    \n",
    "    Splits the string on commas, and then passes the comma-separated vals\n",
    "        to :func:`.Embedding.fromString`\n",
    "    Arguments:\n",
    "        string: The string to turn into an array of Embedding objects\n",
    "    Returns:\n",
    "        an array of :class:`.Embedding` objects\n",
    "    \"\"\"\n",
    "    if len(string) == 0:\n",
    "        return []\n",
    "    else:\n",
    "        embeddingStrings = string.split(\",\")\n",
    "        return [Embedding.fromString(x) for x in embeddingStrings]\n",
    "      \n",
    "def read_simdata_file(simdata_file, one_hot_encode=False, ids_to_load=None):\n",
    "    ids = []\n",
    "    sequences = []\n",
    "    embeddings = []\n",
    "    labels = []\n",
    "    if (ids_to_load is not None):\n",
    "        ids_to_load = set(ids_to_load)\n",
    "    def action(inp, line_number):\n",
    "        if (line_number > 1):\n",
    "            if (ids_to_load is None or (inp[0] in ids_to_load)):\n",
    "                ids.append(inp[0]) \n",
    "                sequences.append(inp[1])\n",
    "                embeddings.append(getEmbeddingsFromString(inp[2]))\n",
    "                labels.append([int(x) for x in inp[3:]])\n",
    "    perform_action_on_each_line_of_file(\n",
    "        file_handle=get_file_handle(simdata_file),\n",
    "        action=action,\n",
    "        transformation=default_tab_seppd)\n",
    "    return enum(\n",
    "            ids=ids,\n",
    "            sequences=sequences,\n",
    "            embeddings=embeddings,\n",
    "            labels=np.array(labels))\n",
    "  \n",
    "\n",
    "\n",
    "def perform_action_on_each_line_of_file(\n",
    "    file_handle\n",
    "    #should be a function that accepts the\n",
    "    #preprocessed/filtered line and the line number\n",
    "    , action\n",
    "    , transformation=default_tab_seppd\n",
    "    , ignore_input_title=False\n",
    "    , progress_update=None\n",
    "    , progress_update_file_name=None):\n",
    "\n",
    "    i = 0;\n",
    "    for line in file_handle:\n",
    "        i += 1;\n",
    "#         line = line.decode(\"utf-8\")\n",
    "        process_line(line, i, ignore_input_title,\n",
    "                     transformation, action, progress_update)\n",
    "        print_progress(progress_update, i, progress_update_file_name)\n",
    "\n",
    "    file_handle.close();"
   ]
  },
  {
   "cell_type": "code",
   "execution_count": 8,
   "metadata": {
    "colab": {
     "base_uri": "https://localhost:8080/",
     "height": 663
    },
    "colab_type": "code",
    "id": "fVi2X-E_GQpO",
    "outputId": "42784437-09f9-4eba-9ecf-a0e141477829"
   },
   "outputs": [
    {
     "name": "stdout",
     "output_type": "stream",
     "text": [
      "Requirement already satisfied: concise in /usr/local/lib/python3.6/dist-packages (0.6.6)\n",
      "Requirement already satisfied: scipy in /usr/local/lib/python3.6/dist-packages (from concise) (1.3.0)\n",
      "Requirement already satisfied: pandas in /usr/local/lib/python3.6/dist-packages (from concise) (0.24.2)\n",
      "Requirement already satisfied: scikit-learn>=0.18 in /usr/local/lib/python3.6/dist-packages (from concise) (0.21.2)\n",
      "Requirement already satisfied: descartes in /usr/local/lib/python3.6/dist-packages (from concise) (1.1.0)\n",
      "Requirement already satisfied: hyperopt in /usr/local/lib/python3.6/dist-packages (from concise) (0.1.2)\n",
      "Requirement already satisfied: shapely in /usr/local/lib/python3.6/dist-packages (from concise) (1.6.4.post2)\n",
      "Requirement already satisfied: gtfparse>=1.0.7 in /usr/local/lib/python3.6/dist-packages (from concise) (1.2.0)\n",
      "Requirement already satisfied: matplotlib in /usr/local/lib/python3.6/dist-packages (from concise) (3.0.3)\n",
      "Requirement already satisfied: keras>=2.0.4 in /usr/local/lib/python3.6/dist-packages (from concise) (2.2.4)\n",
      "Requirement already satisfied: numpy in /usr/local/lib/python3.6/dist-packages (from concise) (1.16.4)\n",
      "Requirement already satisfied: python-dateutil>=2.5.0 in /usr/local/lib/python3.6/dist-packages (from pandas->concise) (2.5.3)\n",
      "Requirement already satisfied: pytz>=2011k in /usr/local/lib/python3.6/dist-packages (from pandas->concise) (2018.9)\n",
      "Requirement already satisfied: joblib>=0.11 in /usr/local/lib/python3.6/dist-packages (from scikit-learn>=0.18->concise) (0.13.2)\n",
      "Requirement already satisfied: future in /usr/local/lib/python3.6/dist-packages (from hyperopt->concise) (0.16.0)\n",
      "Requirement already satisfied: tqdm in /usr/local/lib/python3.6/dist-packages (from hyperopt->concise) (4.28.1)\n",
      "Requirement already satisfied: pymongo in /usr/local/lib/python3.6/dist-packages (from hyperopt->concise) (3.8.0)\n",
      "Requirement already satisfied: six in /usr/local/lib/python3.6/dist-packages (from hyperopt->concise) (1.12.0)\n",
      "Requirement already satisfied: networkx in /usr/local/lib/python3.6/dist-packages (from hyperopt->concise) (2.3)\n",
      "Requirement already satisfied: pyparsing!=2.0.4,!=2.1.2,!=2.1.6,>=2.0.1 in /usr/local/lib/python3.6/dist-packages (from matplotlib->concise) (2.4.0)\n",
      "Requirement already satisfied: cycler>=0.10 in /usr/local/lib/python3.6/dist-packages (from matplotlib->concise) (0.10.0)\n",
      "Requirement already satisfied: kiwisolver>=1.0.1 in /usr/local/lib/python3.6/dist-packages (from matplotlib->concise) (1.1.0)\n",
      "Requirement already satisfied: keras-applications>=1.0.6 in /usr/local/lib/python3.6/dist-packages (from keras>=2.0.4->concise) (1.0.8)\n",
      "Requirement already satisfied: pyyaml in /usr/local/lib/python3.6/dist-packages (from keras>=2.0.4->concise) (3.13)\n",
      "Requirement already satisfied: h5py in /usr/local/lib/python3.6/dist-packages (from keras>=2.0.4->concise) (2.8.0)\n",
      "Requirement already satisfied: keras-preprocessing>=1.0.5 in /usr/local/lib/python3.6/dist-packages (from keras>=2.0.4->concise) (1.1.0)\n",
      "Requirement already satisfied: decorator>=4.3.0 in /usr/local/lib/python3.6/dist-packages (from networkx->hyperopt->concise) (4.4.0)\n",
      "Requirement already satisfied: setuptools in /usr/local/lib/python3.6/dist-packages (from kiwisolver>=1.0.1->matplotlib->concise) (41.0.1)\n",
      "Requirement already satisfied: keras-genomics in /usr/local/lib/python3.6/dist-packages (0.1.0.0)\n",
      "Requirement already satisfied: keras in /usr/local/lib/python3.6/dist-packages (from keras-genomics) (2.2.4)\n",
      "Requirement already satisfied: keras-applications>=1.0.6 in /usr/local/lib/python3.6/dist-packages (from keras->keras-genomics) (1.0.8)\n",
      "Requirement already satisfied: h5py in /usr/local/lib/python3.6/dist-packages (from keras->keras-genomics) (2.8.0)\n",
      "Requirement already satisfied: pyyaml in /usr/local/lib/python3.6/dist-packages (from keras->keras-genomics) (3.13)\n",
      "Requirement already satisfied: scipy>=0.14 in /usr/local/lib/python3.6/dist-packages (from keras->keras-genomics) (1.3.0)\n",
      "Requirement already satisfied: six>=1.9.0 in /usr/local/lib/python3.6/dist-packages (from keras->keras-genomics) (1.12.0)\n",
      "Requirement already satisfied: keras-preprocessing>=1.0.5 in /usr/local/lib/python3.6/dist-packages (from keras->keras-genomics) (1.1.0)\n",
      "Requirement already satisfied: numpy>=1.9.1 in /usr/local/lib/python3.6/dist-packages (from keras->keras-genomics) (1.16.4)\n"
     ]
    },
    {
     "name": "stderr",
     "output_type": "stream",
     "text": [
      "Using TensorFlow backend.\n"
     ]
    }
   ],
   "source": [
    "!pip install concise\n",
    "!pip install keras-genomics\n",
    "\n",
    "import keras \n",
    "import keras_genomics\n",
    "import numpy as np\n",
    "\n",
    "from keras import backend as K \n",
    "from keras.layers.core import Dropout \n",
    "from keras.layers.core import Flatten\n",
    "from keras.engine import Layer\n",
    "from keras.models import Sequential \n",
    "import keras.layers as k1\n",
    "from keras.engine.base_layer import InputSpec\n",
    "from __future__ import print_function\n",
    "\n",
    "from sklearn.model_selection import train_test_split"
   ]
  },
  {
   "cell_type": "code",
   "execution_count": null,
   "metadata": {
    "colab": {},
    "colab_type": "code",
    "id": "-S7C8e6c7MFu"
   },
   "outputs": [],
   "source": [
    "sequences = read_simdata_file(\"DensityEmbedding_motifs-GATA_disc1+TAL1_known1_min-1_max-4_mean-2_zeroProb-0p5_seqLength-1000_posSdevInBp-100_numSeqs-10000.simdata\").sequences\n",
    "embeddings = read_simdata_file(\"DensityEmbedding_motifs-GATA_disc1+TAL1_known1_min-1_max-4_mean-2_zeroProb-0p5_seqLength-1000_posSdevInBp-100_numSeqs-10000.simdata\").embeddings"
   ]
  },
  {
   "cell_type": "code",
   "execution_count": null,
   "metadata": {
    "colab": {},
    "colab_type": "code",
    "id": "EeNUJ_QeKnAY"
   },
   "outputs": [],
   "source": [
    "# for x in embeddings: \n",
    "#   if len(x)==0: \n",
    "#     x.append([1,2,3])\n",
    "#   print(x)"
   ]
  },
  {
   "cell_type": "code",
   "execution_count": null,
   "metadata": {
    "colab": {},
    "colab_type": "code",
    "id": "Bzy-lSooGIr-"
   },
   "outputs": [],
   "source": [
    "str(embeddings[0][0].what)\n",
    "\n",
    "def check(embeddings): \n",
    "  if len(embeddings) > 0:\n",
    "    all_chars = \"\"\n",
    "    for x in embeddings: \n",
    "      all_chars += str(x.what)\n",
    "      \n",
    "    if 'TAL' in all_chars and 'GATA' in all_chars: \n",
    "      return [1, 1]\n",
    "    if 'TAL' in all_chars and 'GATA' not in all_chars:\n",
    "      return [1, 0]\n",
    "    if 'TAL' not in all_chars and 'GATA' in all_chars:\n",
    "      return [0, 1]\n",
    "  return [0,0]\n",
    "\n",
    "# def find(embeddings): \n",
    "#   return np.array( for x in embeddings)\n",
    "# motifdict = {'TAL1_known1-AGCAACAGATGGCCGA': 0, \n",
    "#             'GATA_disc1}"
   ]
  },
  {
   "cell_type": "code",
   "execution_count": null,
   "metadata": {
    "colab": {},
    "colab_type": "code",
    "id": "r569aOexGJcF"
   },
   "outputs": [],
   "source": [
    "check(embeddings[5])\n",
    "\n",
    "y= np.zeros((0,2))\n",
    "for x in embeddings: \n",
    "  thing = check(x)\n",
    "  y = np.append(y, [thing], axis=0)\n",
    "#     print(y_train)\n",
    "#   return np.array(check(x) for x in embeddings)\n",
    "#   for x in embeddings: \n",
    "#     print(check(motif, x))\n",
    "\n"
   ]
  },
  {
   "cell_type": "code",
   "execution_count": 14,
   "metadata": {
    "colab": {
     "base_uri": "https://localhost:8080/",
     "height": 136
    },
    "colab_type": "code",
    "id": "-2bg47HsWW3C",
    "outputId": "0f286d76-79f3-4a0b-c6fd-069a86e244d2"
   },
   "outputs": [
    {
     "data": {
      "text/plain": [
       "array([[1., 1.],\n",
       "       [0., 0.],\n",
       "       [0., 0.],\n",
       "       ...,\n",
       "       [1., 0.],\n",
       "       [0., 0.],\n",
       "       [1., 1.]])"
      ]
     },
     "execution_count": 14,
     "metadata": {
      "tags": []
     },
     "output_type": "execute_result"
    }
   ],
   "source": [
    "y"
   ]
  },
  {
   "cell_type": "code",
   "execution_count": 15,
   "metadata": {
    "colab": {
     "base_uri": "https://localhost:8080/",
     "height": 34
    },
    "colab_type": "code",
    "id": "RR8L8wzS-211",
    "outputId": "74ce42f7-3258-4e67-8ff4-d44ea5ff38a1"
   },
   "outputs": [
    {
     "data": {
      "text/plain": [
       "(10000, 2)"
      ]
     },
     "execution_count": 15,
     "metadata": {
      "tags": []
     },
     "output_type": "execute_result"
    }
   ],
   "source": [
    "y.shape"
   ]
  },
  {
   "cell_type": "code",
   "execution_count": null,
   "metadata": {
    "colab": {},
    "colab_type": "code",
    "id": "M3hIsS9c_TVR"
   },
   "outputs": [],
   "source": [
    "ltrdict = {'a':[1,0,0,0],\n",
    "           'c':[0,1,0,0],\n",
    "           'g':[0,0,1,0],\n",
    "           't':[0,0,0,1],\n",
    "           'n':[0,0,0,0],\n",
    "           'A':[1,0,0,0],\n",
    "           'C':[0,1,0,0],\n",
    "           'G':[0,0,1,0],\n",
    "           'T':[0,0,0,1],\n",
    "           'N':[0,0,0,0]}\n",
    "\n",
    "def onehot_encode(sequence):\n",
    "  return np.array([ltrdict[x] for x in sequence])\n",
    "\n",
    "x = np.array([onehot_encode(x) for x in sequences]) \n"
   ]
  },
  {
   "cell_type": "code",
   "execution_count": 17,
   "metadata": {
    "colab": {
     "base_uri": "https://localhost:8080/",
     "height": 34
    },
    "colab_type": "code",
    "id": "RKUzSpp6tNCZ",
    "outputId": "d5dd5a14-c659-41aa-b011-05f1c2370344"
   },
   "outputs": [
    {
     "data": {
      "text/plain": [
       "(10000, 1000, 4)"
      ]
     },
     "execution_count": 17,
     "metadata": {
      "tags": []
     },
     "output_type": "execute_result"
    }
   ],
   "source": [
    "x.shape"
   ]
  },
  {
   "cell_type": "code",
   "execution_count": null,
   "metadata": {
    "colab": {},
    "colab_type": "code",
    "id": "SU6yrfLPdOWX"
   },
   "outputs": [],
   "source": [
    "x_train, x_test, y_train, y_test = train_test_split(x, y, test_size = 0.2, random_state = 0)"
   ]
  },
  {
   "cell_type": "code",
   "execution_count": null,
   "metadata": {
    "colab": {},
    "colab_type": "code",
    "id": "meV0g3xKNF6k"
   },
   "outputs": [],
   "source": [
    "class RevCompSumPool(Layer): \n",
    "    def __init__(self, **kwargs): \n",
    "        super(RevCompSumPool, self).__init__(**kwargs)\n",
    "\n",
    "    def build(self, input_shape):\n",
    "        self.num_input_chan = input_shape[2]\n",
    "        super(RevCompSumPool, self).build(input_shape)\n",
    "\n",
    "    def call(self, inputs): \n",
    "        inputs = inputs[:,:,:int(self.num_input_chan/2)] + inputs[:,:,int(self.num_input_chan/2):][:,::-1,::-1]\n",
    "        return inputs\n",
    "      \n",
    "    def compute_output_shape(self, input_shape):\n",
    "      return (input_shape[0], input_shape[1], int(input_shape[2]/2))\n"
   ]
  },
  {
   "cell_type": "markdown",
   "metadata": {
    "colab_type": "text",
    "id": "Pp-XY5l6sPPb"
   },
   "source": [
    "Use this architecture: 3 conv layers (stride 1) of widths 15, 15, 15, each with 15 filters, *padding=“same”*, each conv layer followed by batchnorm, followed by your summing operation to induce revcomp symmetry, followed by maxpooling, followed by a single Dense layer with 100 neurons, followed by the output layer. All activations except the final output would be ReLU activations."
   ]
  },
  {
   "cell_type": "code",
   "execution_count": 21,
   "metadata": {
    "colab": {
     "base_uri": "https://localhost:8080/",
     "height": 224
    },
    "colab_type": "code",
    "id": "ckzTqOfml6bI",
    "outputId": "663a70b0-08b8-435d-d949-d2db42aaa0f8"
   },
   "outputs": [
    {
     "name": "stderr",
     "output_type": "stream",
     "text": [
      "WARNING: Logging before flag parsing goes to stderr.\n",
      "W0621 23:55:29.133912 140128950613888 deprecation_wrapper.py:119] From /usr/local/lib/python3.6/dist-packages/keras/backend/tensorflow_backend.py:74: The name tf.get_default_graph is deprecated. Please use tf.compat.v1.get_default_graph instead.\n",
      "\n",
      "W0621 23:55:29.153930 140128950613888 deprecation_wrapper.py:119] From /usr/local/lib/python3.6/dist-packages/keras/backend/tensorflow_backend.py:517: The name tf.placeholder is deprecated. Please use tf.compat.v1.placeholder instead.\n",
      "\n",
      "W0621 23:55:29.156883 140128950613888 deprecation_wrapper.py:119] From /usr/local/lib/python3.6/dist-packages/keras/backend/tensorflow_backend.py:4138: The name tf.random_uniform is deprecated. Please use tf.random.uniform instead.\n",
      "\n",
      "W0621 23:55:29.259854 140128950613888 deprecation_wrapper.py:119] From /usr/local/lib/python3.6/dist-packages/keras/backend/tensorflow_backend.py:133: The name tf.placeholder_with_default is deprecated. Please use tf.compat.v1.placeholder_with_default instead.\n",
      "\n",
      "W0621 23:55:29.521047 140128950613888 deprecation_wrapper.py:119] From /usr/local/lib/python3.6/dist-packages/keras/backend/tensorflow_backend.py:3976: The name tf.nn.max_pool is deprecated. Please use tf.nn.max_pool2d instead.\n",
      "\n"
     ]
    }
   ],
   "source": [
    "kernel_size = 15\n",
    "filters=15\n",
    "input_length = 1000\n",
    "\n",
    "rc_model = keras.models.Sequential()\n",
    "rc_model.add(keras_genomics.layers.RevCompConv1D(\n",
    "            filters=filters, kernel_size=kernel_size,\n",
    "            input_shape=x_train.shape[1:], activation=\"relu\",\n",
    "            padding=\"same\"))\n",
    "rc_model.add(keras_genomics.layers.normalization.RevCompConv1DBatchNorm())\n",
    "rc_model.add(keras_genomics.layers.RevCompConv1D(\n",
    "            filters=filters, kernel_size=kernel_size,\n",
    "            activation=\"relu\",\n",
    "            padding=\"same\"))\n",
    "rc_model.add(keras_genomics.layers.normalization.RevCompConv1DBatchNorm())\n",
    "rc_model.add(keras_genomics.layers.RevCompConv1D(\n",
    "            filters=filters, kernel_size=kernel_size,\n",
    "            activation=\"relu\",\n",
    "            padding=\"same\"))\n",
    "rc_model.add(keras_genomics.layers.normalization.RevCompConv1DBatchNorm())\n",
    "rc_model.add(RevCompSumPool())\n",
    "rc_model.add(keras.layers.pooling.MaxPooling1D(pool_size=20,padding=\"same\",\n",
    "                                               strides=20))\n",
    "rc_model.add(Flatten())\n",
    "rc_model.add(keras_genomics.layers.core.Dense(units = 100, activation = \"relu\"))\n",
    "rc_model.add(keras_genomics.layers.core.Dense(units = 2))\n",
    "rc_model.add(keras.layers.core.Activation(\"sigmoid\"))"
   ]
  },
  {
   "cell_type": "code",
   "execution_count": null,
   "metadata": {
    "colab": {},
    "colab_type": "code",
    "id": "9b6PQbevnhCV"
   },
   "outputs": [],
   "source": [
    "reg_model = keras.models.Sequential()\n",
    "reg_model.add(k1.Conv1D(filters=filters, kernel_size=kernel_size,\n",
    "            input_shape=(input_length,4), activation=\"relu\",\n",
    "            padding=\"same\"))\n",
    "reg_model.add(k1.BatchNormalization())\n",
    "reg_model.add(k1.Conv1D(filters=filters, kernel_size=kernel_size,\n",
    "            activation=\"relu\", padding=\"same\"))\n",
    "reg_model.add(k1.BatchNormalization())\n",
    "reg_model.add(k1.Conv1D(filters=filters, kernel_size=kernel_size,\n",
    "            activation=\"relu\", padding=\"same\"))\n",
    "reg_model.add(k1.BatchNormalization())\n",
    "reg_model.add(k1.pooling.MaxPooling1D(pool_size=20,padding=\"same\",\n",
    "                                               strides=20))\n",
    "reg_model.add(Flatten())\n",
    "reg_model.add(k1.Dense(units = 100, activation = \"relu\"))\n",
    "reg_model.add(k1.Dense(units = 2))\n",
    "reg_model.add(k1.core.Activation(\"sigmoid\"))"
   ]
  },
  {
   "cell_type": "code",
   "execution_count": null,
   "metadata": {
    "colab": {},
    "colab_type": "code",
    "id": "-yqiWjgYnm93"
   },
   "outputs": [],
   "source": [
    "from numpy.random import seed\n",
    "seed(1)\n",
    "from tensorflow import set_random_seed\n",
    "from keras.callbacks import EarlyStopping, History\n",
    "set_random_seed(2)"
   ]
  },
  {
   "cell_type": "code",
   "execution_count": 24,
   "metadata": {
    "colab": {
     "base_uri": "https://localhost:8080/",
     "height": 156
    },
    "colab_type": "code",
    "id": "vlJ0_geYVN2i",
    "outputId": "ed39d941-7f88-4c9d-d614-88095130ecb9"
   },
   "outputs": [
    {
     "name": "stderr",
     "output_type": "stream",
     "text": [
      "W0621 23:55:33.234848 140128950613888 deprecation_wrapper.py:119] From /usr/local/lib/python3.6/dist-packages/keras/optimizers.py:790: The name tf.train.Optimizer is deprecated. Please use tf.compat.v1.train.Optimizer instead.\n",
      "\n",
      "W0621 23:55:33.260170 140128950613888 deprecation_wrapper.py:119] From /usr/local/lib/python3.6/dist-packages/keras/backend/tensorflow_backend.py:3376: The name tf.log is deprecated. Please use tf.math.log instead.\n",
      "\n",
      "W0621 23:55:33.265490 140128950613888 deprecation.py:323] From /usr/local/lib/python3.6/dist-packages/tensorflow/python/ops/nn_impl.py:180: add_dispatch_support.<locals>.wrapper (from tensorflow.python.ops.array_ops) is deprecated and will be removed in a future version.\n",
      "Instructions for updating:\n",
      "Use tf.where in 2.0, which has the same broadcast rule as np.where\n"
     ]
    }
   ],
   "source": [
    "rc_model.compile(optimizer=\"adam\", loss=\"binary_crossentropy\", metrics=[\"accuracy\"])"
   ]
  },
  {
   "cell_type": "code",
   "execution_count": null,
   "metadata": {
    "colab": {},
    "colab_type": "code",
    "id": "R6m8Qh66fkRw"
   },
   "outputs": [],
   "source": []
  },
  {
   "cell_type": "code",
   "execution_count": 29,
   "metadata": {
    "colab": {
     "base_uri": "https://localhost:8080/",
     "height": 476
    },
    "colab_type": "code",
    "id": "d0tNTf4XUVsQ",
    "outputId": "7abdb3f6-2cb2-4422-fe59-d973e4fe1d5a"
   },
   "outputs": [
    {
     "name": "stdout",
     "output_type": "stream",
     "text": [
      "Train on 7200 samples, validate on 800 samples\n",
      "Epoch 1/100\n",
      "7200/7200 [==============================] - 2s 314us/step - loss: 0.3867 - acc: 0.7600 - val_loss: 0.4214 - val_acc: 0.7269\n",
      "Epoch 2/100\n",
      "7200/7200 [==============================] - 2s 308us/step - loss: 0.3803 - acc: 0.7690 - val_loss: 0.4205 - val_acc: 0.7081\n",
      "Epoch 3/100\n",
      "7200/7200 [==============================] - 2s 309us/step - loss: 0.3765 - acc: 0.7705 - val_loss: 0.4261 - val_acc: 0.7175\n",
      "Epoch 4/100\n",
      "7200/7200 [==============================] - 2s 310us/step - loss: 0.3756 - acc: 0.7712 - val_loss: 0.4141 - val_acc: 0.7475\n",
      "Epoch 5/100\n",
      "7200/7200 [==============================] - 2s 308us/step - loss: 0.3602 - acc: 0.7901 - val_loss: 0.4328 - val_acc: 0.7331\n",
      "Epoch 6/100\n",
      "7200/7200 [==============================] - 2s 310us/step - loss: 0.3353 - acc: 0.8215 - val_loss: 0.3732 - val_acc: 0.8150\n",
      "Epoch 7/100\n",
      "7200/7200 [==============================] - 2s 309us/step - loss: 0.2372 - acc: 0.8977 - val_loss: 0.3229 - val_acc: 0.8731\n",
      "Epoch 8/100\n",
      "7200/7200 [==============================] - 2s 309us/step - loss: 0.1929 - acc: 0.9224 - val_loss: 0.2367 - val_acc: 0.9106\n",
      "Epoch 9/100\n",
      "7200/7200 [==============================] - 2s 310us/step - loss: 0.1604 - acc: 0.9378 - val_loss: 0.2516 - val_acc: 0.9031\n",
      "Epoch 10/100\n",
      "7200/7200 [==============================] - 2s 310us/step - loss: 0.1410 - acc: 0.9434 - val_loss: 0.2349 - val_acc: 0.9150\n",
      "Epoch 11/100\n",
      "7200/7200 [==============================] - 2s 310us/step - loss: 0.1212 - acc: 0.9532 - val_loss: 0.2527 - val_acc: 0.9131\n",
      "Epoch 12/100\n",
      "7200/7200 [==============================] - 2s 311us/step - loss: 0.1131 - acc: 0.9558 - val_loss: 0.2556 - val_acc: 0.9081\n",
      "Epoch 13/100\n",
      "7200/7200 [==============================] - 2s 309us/step - loss: 0.0915 - acc: 0.9660 - val_loss: 0.2764 - val_acc: 0.9081\n"
     ]
    }
   ],
   "source": [
    "history_rc = rc_model.fit(x_train, y_train, validation_split=0.1,  \n",
    "                    callbacks=[EarlyStopping(patience=3),  History()],\n",
    "                    batch_size=100,  epochs=100) "
   ]
  },
  {
   "cell_type": "code",
   "execution_count": null,
   "metadata": {
    "colab": {},
    "colab_type": "code",
    "id": "oOMRXM2v-Ddo"
   },
   "outputs": [],
   "source": [
    "reg_model.compile(optimizer=\"adam\", loss=\"binary_crossentropy\", metrics=[\"accuracy\"])"
   ]
  },
  {
   "cell_type": "code",
   "execution_count": 27,
   "metadata": {
    "colab": {
     "base_uri": "https://localhost:8080/",
     "height": 408
    },
    "colab_type": "code",
    "id": "DJy81maN-vyJ",
    "outputId": "da31a7de-52fb-48ee-e2cc-7bf457ab83e1"
   },
   "outputs": [
    {
     "name": "stdout",
     "output_type": "stream",
     "text": [
      "Train on 6400 samples, validate on 1600 samples\n",
      "Epoch 1/100\n",
      "6400/6400 [==============================] - 2s 324us/step - loss: 0.8219 - acc: 0.5109 - val_loss: 0.7273 - val_acc: 0.5206\n",
      "Epoch 2/100\n",
      "6400/6400 [==============================] - 1s 154us/step - loss: 0.6898 - acc: 0.5619 - val_loss: 0.7295 - val_acc: 0.5200\n",
      "Epoch 3/100\n",
      "6400/6400 [==============================] - 1s 157us/step - loss: 0.6668 - acc: 0.5947 - val_loss: 0.7099 - val_acc: 0.5312\n",
      "Epoch 4/100\n",
      "6400/6400 [==============================] - 1s 156us/step - loss: 0.6416 - acc: 0.6256 - val_loss: 0.7218 - val_acc: 0.5266\n",
      "Epoch 5/100\n",
      "6400/6400 [==============================] - 1s 157us/step - loss: 0.6105 - acc: 0.6691 - val_loss: 0.7047 - val_acc: 0.5447\n",
      "Epoch 6/100\n",
      "6400/6400 [==============================] - 1s 156us/step - loss: 0.5867 - acc: 0.6907 - val_loss: 0.7389 - val_acc: 0.5391\n",
      "Epoch 7/100\n",
      "6400/6400 [==============================] - 1s 159us/step - loss: 0.5606 - acc: 0.7102 - val_loss: 0.6723 - val_acc: 0.6000\n",
      "Epoch 8/100\n",
      "6400/6400 [==============================] - 1s 155us/step - loss: 0.5141 - acc: 0.7513 - val_loss: 0.6664 - val_acc: 0.6197\n",
      "Epoch 9/100\n",
      "6400/6400 [==============================] - 1s 159us/step - loss: 0.4420 - acc: 0.7955 - val_loss: 1.0418 - val_acc: 0.5316\n",
      "Epoch 10/100\n",
      "6400/6400 [==============================] - 1s 157us/step - loss: 0.3915 - acc: 0.8172 - val_loss: 0.8549 - val_acc: 0.5853\n",
      "Epoch 11/100\n",
      "6400/6400 [==============================] - 1s 154us/step - loss: 0.3309 - acc: 0.8533 - val_loss: 1.0475 - val_acc: 0.5637\n"
     ]
    }
   ],
   "source": [
    "history_reg = reg_model.fit(x_train, y_train, validation_split = 0.2, \n",
    "                           callbacks=[EarlyStopping(patience=3), History()], \n",
    "                           batch_size = 100, epochs = 100)"
   ]
  },
  {
   "cell_type": "code",
   "execution_count": null,
   "metadata": {
    "colab": {},
    "colab_type": "code",
    "id": "hy4HWOb4WlO5"
   },
   "outputs": [],
   "source": [
    "from sklearn.metrics import roc_auc_score\n",
    "from sklearn.metrics import average_precision_score\n",
    "\n",
    "def evaluate(model, x, y): \n",
    "  y_pred = model.predict(x)\n",
    "  auc = roc_auc_score(y, model.predict(x)) \n",
    "  prec = average_precision_score(y, model.predict(x))\n",
    "  print(\"auc: \" + str(auc))\n",
    "  print(\"prec: \"+ str(prec))"
   ]
  },
  {
   "cell_type": "code",
   "execution_count": 38,
   "metadata": {
    "colab": {
     "base_uri": "https://localhost:8080/",
     "height": 68
    },
    "colab_type": "code",
    "id": "eBC1LQSQWtNC",
    "outputId": "ee6310ff-96c5-4266-8454-7a0f35cd90a4"
   },
   "outputs": [
    {
     "name": "stdout",
     "output_type": "stream",
     "text": [
      "Reverse Complement Model\n",
      "auc: 0.9555178001374021\n",
      "prec: 0.9636252588185817\n"
     ]
    }
   ],
   "source": [
    "print(\"Reverse Complement Model\")\n",
    "evaluate(rc_model, x_test, y_test)"
   ]
  },
  {
   "cell_type": "code",
   "execution_count": 39,
   "metadata": {
    "colab": {
     "base_uri": "https://localhost:8080/",
     "height": 68
    },
    "colab_type": "code",
    "id": "E8yxDygRbhxV",
    "outputId": "6253bd40-bb36-4b81-9109-d12838149254"
   },
   "outputs": [
    {
     "name": "stdout",
     "output_type": "stream",
     "text": [
      "Regular Model\n",
      "auc: 0.7680798999669212\n",
      "prec: 0.7819481017342358\n"
     ]
    }
   ],
   "source": [
    "print(\"Regular Model\")\n",
    "evaluate(reg_model, x_test, y_test)"
   ]
  },
  {
   "cell_type": "code",
   "execution_count": null,
   "metadata": {
    "colab": {},
    "colab_type": "code",
    "id": "vDHY_3pKeVOh"
   },
   "outputs": [],
   "source": []
  }
 ],
 "metadata": {
  "accelerator": "GPU",
  "colab": {
   "collapsed_sections": [],
   "include_colab_link": true,
   "name": "RevcompSim.ipynb",
   "provenance": [],
   "version": "0.3.2"
  },
  "kernelspec": {
   "display_name": "Python 3",
   "language": "python",
   "name": "python3"
  },
  "language_info": {
   "codemirror_mode": {
    "name": "ipython",
    "version": 3
   },
   "file_extension": ".py",
   "mimetype": "text/x-python",
   "name": "python",
   "nbconvert_exporter": "python",
   "pygments_lexer": "ipython3",
   "version": "3.7.3"
  }
 },
 "nbformat": 4,
 "nbformat_minor": 2
}
