{
 "cells": [
  {
   "cell_type": "code",
   "execution_count": 10,
   "metadata": {},
   "outputs": [
    {
     "name": "stdout",
     "output_type": "stream",
     "text": [
      "Requirement already satisfied: abstention in /users/hannahgz/anaconda3/lib/python3.7/site-packages (0.1.2.1)\n",
      "Requirement already satisfied: scipy>=1.1.0 in /users/hannahgz/anaconda3/lib/python3.7/site-packages (from abstention) (1.2.1)\n",
      "Requirement already satisfied: scikit-learn>=0.20.0 in /users/hannahgz/anaconda3/lib/python3.7/site-packages (from abstention) (0.20.3)\n",
      "Requirement already satisfied: numpy>=1.9 in /users/hannahgz/anaconda3/lib/python3.7/site-packages (from abstention) (1.16.2)\n"
     ]
    }
   ],
   "source": [
    "from __future__ import division, print_function\n",
    "import numpy as np\n",
    "!pip install abstention\n",
    "from abstention.figure_making_utils import wilcox_srs"
   ]
  },
  {
   "cell_type": "markdown",
   "metadata": {},
   "source": [
    "# he initialization and no batch normalization"
   ]
  },
  {
   "cell_type": "code",
   "execution_count": 23,
   "metadata": {},
   "outputs": [],
   "source": [
    "import os\n",
    "\n",
    "files_he = []\n",
    " \n",
    "for entry in os.scandir('/users/hannahgz/revcomp_experiments/he_no_batch/Results'):\n",
    "    if entry.is_file():\n",
    "        files_he.append(entry.path)\n",
    "        \n",
    "rc_he_auroc = []\n",
    "reg_he_auroc = []\n",
    "siamese_he_auroc = []\n",
    "\n",
    "rc_he_auprc = []\n",
    "reg_he_auprc = []\n",
    "siamese_he_auprc = []\n",
    "\n",
    "for file in files_he: \n",
    "    f = open(file, \"r\")\n",
    "    lines = f.readlines()\n",
    "    rc_he_auroc.append(float(lines[1][6:-1]))\n",
    "    reg_he_auroc.append(float(lines[4][6:-1]))\n",
    "    siamese_he_auroc.append(float(lines[7][6:-1]))\n",
    "    \n",
    "    rc_he_auprc.append(float(lines[2][6:-1]))\n",
    "    reg_he_auprc.append(float(lines[5][6:-1]))\n",
    "    siamese_he_auprc.append(float(lines[8][6:-1]))\n"
   ]
  },
  {
   "cell_type": "markdown",
   "metadata": {},
   "source": [
    "# he initialization and batch normalization"
   ]
  },
  {
   "cell_type": "code",
   "execution_count": 24,
   "metadata": {},
   "outputs": [],
   "source": [
    "files_he_batch = []\n",
    " \n",
    "for entry in os.scandir('/users/hannahgz/revcomp_experiments/he_batch/Results'):\n",
    "    if entry.is_file():\n",
    "        files_he_batch.append(entry.path)\n",
    "        \n",
    "rc_he_batch_auroc = []\n",
    "reg_he_batch_auroc = []\n",
    "siamese_he_batch_auroc = []\n",
    "\n",
    "rc_he_batch_auprc = []\n",
    "reg_he_batch_auprc = []\n",
    "siamese_he_batch_auprc = []\n",
    "\n",
    "for file in files_he_batch: \n",
    "    f = open(file, \"r\")\n",
    "    lines = f.readlines()\n",
    "    if file == \"/mnt/lab_data2/hannahgz/revcomp_experiments/revcomp_experiments/he_batch/Results/Seed 1000.txt\": \n",
    "        rc_he_batch_auroc.append(float(lines[1][6:-1]))\n",
    "        reg_he_batch_auroc.append(float(lines[4][6:-1]))\n",
    "        siamese_he_batch_auroc.append(float(lines[7][6:-1]))\n",
    "        rc_he_batch_auprc.append(float(lines[2][6:-1]))\n",
    "        reg_he_batch_auprc.append(float(lines[5][6:-1]))\n",
    "        siamese_he_batch_auprc.append(float(lines[8][6:-1]))\n",
    "    else: \n",
    "        reg_he_batch_auroc.append(float(lines[1][6:-1]))\n",
    "        siamese_he_batch_auroc.append(float(lines[4][6:-1]))\n",
    "        reg_he_batch_auprc.append(float(lines[2][6:-1]))\n",
    "        siamese_he_batch_auprc.append(float(lines[5][6:-1]))"
   ]
  },
  {
   "cell_type": "markdown",
   "metadata": {},
   "source": [
    "# standard initialization and batch normalization"
   ]
  },
  {
   "cell_type": "code",
   "execution_count": 25,
   "metadata": {},
   "outputs": [],
   "source": [
    "files_standard_batch = []\n",
    " \n",
    "for entry in os.scandir('/users/hannahgz/revcomp_experiments/standard_batch/Results'):\n",
    "    if entry.is_file():\n",
    "        files_standard_batch.append(entry.path)\n",
    "        \n",
    "rc_standard_batch_auroc = []\n",
    "reg_standard_batch_auroc = []\n",
    "siamese_standard_batch_auroc = []\n",
    "\n",
    "rc_standard_batch_auprc = []\n",
    "reg_standard_batch_auprc = []\n",
    "siamese_standard_batch_auprc = []\n",
    "\n",
    "for file in files_standard_batch: \n",
    "    f = open(file, \"r\")\n",
    "    lines = f.readlines()\n",
    "    rc_standard_batch_auroc.append(float(lines[1][6:-1]))\n",
    "    reg_standard_batch_auroc.append(float(lines[4][6:-1]))\n",
    "    siamese_standard_batch_auroc.append(float(lines[7][6:-1]))\n",
    "    rc_standard_batch_auprc.append(float(lines[2][6:-1]))\n",
    "    reg_standard_batch_auprc.append(float(lines[5][6:-1]))\n",
    "    siamese_standard_batch_auprc.append(float(lines[8][6:-1]))"
   ]
  },
  {
   "cell_type": "markdown",
   "metadata": {},
   "source": [
    "# standard initialization and no batch norm"
   ]
  },
  {
   "cell_type": "code",
   "execution_count": 46,
   "metadata": {},
   "outputs": [],
   "source": [
    "files_standard = []\n",
    " \n",
    "for entry in os.scandir('/users/hannahgz/revcomp_experiments/standard_no_batch/Results'):\n",
    "    if entry.is_file():\n",
    "        files_standard.append(entry.path)\n",
    "        \n",
    "rc_standard_auroc = []\n",
    "reg_standard_auroc = []\n",
    "siamese_standard_auroc = []\n",
    "\n",
    "rc_standard_auprc = []\n",
    "reg_standard_auprc = []\n",
    "siamese_standard_auprc = []\n",
    "\n",
    "for file in files_standard: \n",
    "    f = open(file, \"r\")\n",
    "    lines = f.readlines()\n",
    "    rc_standard_auroc.append(float(lines[1][6:-1]))\n",
    "    reg_standard_auroc.append(float(lines[4][6:-1]))\n",
    "    siamese_standard_auroc.append(float(lines[7][6:-1]))\n",
    "    rc_standard_auprc.append(float(lines[2][6:-1]))\n",
    "    reg_standard_auprc.append(float(lines[5][6:-1]))\n",
    "    siamese_standard_auprc.append(float(lines[8][6:-1]))"
   ]
  },
  {
   "cell_type": "code",
   "execution_count": null,
   "metadata": {},
   "outputs": [],
   "source": []
  },
  {
   "cell_type": "code",
   "execution_count": 35,
   "metadata": {},
   "outputs": [],
   "source": [
    "# wilcox_srs(reg_he_auroc, reg_he_batch_auroc)"
   ]
  },
  {
   "cell_type": "code",
   "execution_count": 36,
   "metadata": {},
   "outputs": [],
   "source": [
    "# wilcox_srs(siamese_he_auroc, siamese_he_batch_auroc)"
   ]
  },
  {
   "cell_type": "code",
   "execution_count": 29,
   "metadata": {},
   "outputs": [
    {
     "data": {
      "text/plain": [
       "-46.0000001"
      ]
     },
     "execution_count": 29,
     "metadata": {},
     "output_type": "execute_result"
    }
   ],
   "source": [
    "wilcox_srs(reg_he_auroc, reg_standard_batch_auroc)"
   ]
  },
  {
   "cell_type": "code",
   "execution_count": 37,
   "metadata": {},
   "outputs": [],
   "source": [
    "# wilcox_srs(reg_he_batch_auroc, reg_standard_batch_auroc)"
   ]
  },
  {
   "cell_type": "code",
   "execution_count": 38,
   "metadata": {},
   "outputs": [],
   "source": [
    "# wilcox_srs(reg_he_batch_auroc, rc_standard_batch_auroc)"
   ]
  },
  {
   "cell_type": "code",
   "execution_count": 32,
   "metadata": {},
   "outputs": [
    {
     "data": {
      "text/plain": [
       "-53.0000001"
      ]
     },
     "execution_count": 32,
     "metadata": {},
     "output_type": "execute_result"
    }
   ],
   "source": [
    "wilcox_srs(reg_he_auroc, rc_standard_batch_auroc)"
   ]
  },
  {
   "cell_type": "code",
   "execution_count": 47,
   "metadata": {},
   "outputs": [
    {
     "data": {
      "text/plain": [
       "-11.0000001"
      ]
     },
     "execution_count": 47,
     "metadata": {},
     "output_type": "execute_result"
    }
   ],
   "source": [
    "wilcox_srs(reg_standard_batch_auroc, reg_standard_auroc)"
   ]
  },
  {
   "cell_type": "code",
   "execution_count": null,
   "metadata": {},
   "outputs": [],
   "source": []
  }
 ],
 "metadata": {
  "kernelspec": {
   "display_name": "Python 3",
   "language": "python",
   "name": "python3"
  },
  "language_info": {
   "codemirror_mode": {
    "name": "ipython",
    "version": 3
   },
   "file_extension": ".py",
   "mimetype": "text/x-python",
   "name": "python",
   "nbconvert_exporter": "python",
   "pygments_lexer": "ipython3",
   "version": "3.7.3"
  }
 },
 "nbformat": 4,
 "nbformat_minor": 2
}
