{
 "cells": [
  {
   "cell_type": "code",
   "execution_count": 2,
   "metadata": {},
   "outputs": [],
   "source": [
    "from __future__ import division, print_function\n",
    "import numpy as np"
   ]
  },
  {
   "cell_type": "code",
   "execution_count": 3,
   "metadata": {},
   "outputs": [],
   "source": [
    "import os\n",
    "files = []\n",
    " \n",
    "for entry in os.scandir('/users/hannahgz/revcomp_experiments/standard_no_batch_rev_variance_inc_poolsize/Results'):\n",
    "    if entry.is_file():\n",
    "        files.append(entry.path)\n",
    "        \n",
    "rc_auroc = []\n",
    "reg_auroc = []\n",
    "siamese_auroc = []\n",
    "\n",
    "rc_auprc = []\n",
    "reg_auprc = []\n",
    "siamese_auprc = []\n",
    "\n",
    "for file in files: \n",
    "    f = open(file, \"r\")\n",
    "    lines = f.readlines()\n",
    "    rc_auroc.append(float(lines[1][6:-1]))\n",
    "    reg_auroc.append(float(lines[4][6:-1]))\n",
    "    siamese_auroc.append(float(lines[7][6:-1]))\n",
    "    \n",
    "    rc_auprc.append(float(lines[2][6:-1]))\n",
    "    reg_auprc.append(float(lines[5][6:-1]))\n",
    "    siamese_auprc.append(float(lines[8][6:-1]))\n"
   ]
  },
  {
   "cell_type": "code",
   "execution_count": 68,
   "metadata": {},
   "outputs": [],
   "source": [
    "def mannwhitneyu(vals1, vals2): \n",
    "    vals1 = np.array(vals1)\n",
    "    vals2 = np.array(vals2)\n",
    "    together = np.append(vals1, vals2)\n",
    "    r1 = 0\n",
    "    r2 = 0\n",
    "    for x in enumerate(sorted(together)): \n",
    "        if x[1] in vals1: \n",
    "            r1 += (x[0]+1)\n",
    "        else: \n",
    "            r2 += (x[0]+1)\n",
    "    n1 = len(vals1)\n",
    "    n2 = len(vals2)\n",
    "    u1 = n1 * n2 + (n1 * (n1+1))/2 - r1\n",
    "    u2 = n1 * n2 + (n2 * (n2+1))/2 - r2\n",
    "    return min(u1, u2)"
   ]
  },
  {
   "cell_type": "code",
   "execution_count": 79,
   "metadata": {},
   "outputs": [
    {
     "name": "stdout",
     "output_type": "stream",
     "text": [
      "[0.9645410227790703, 0.9708851848712704, 0.9717322832885605, 0.9724163569178087, 0.9738661111611786, 0.9739694857296228, 0.9744456757755436, 0.9754268926996237, 0.9757411921428207, 0.9759843816038831]\n",
      "[0.9718147656884693, 0.9724485848167066, 0.9728123065658025, 0.9729684100343663, 0.9732489272506761, 0.973725029037913, 0.9737751012814096, 0.9744357110711745, 0.9747110302498769, 0.9773409504206355]\n",
      "[0.9498364984106697, 0.9523651751738723, 0.9530536505496665, 0.9565642372459013, 0.9577938299182351, 0.9582183333349856, 0.9615504790793833, 0.9632892593533197, 0.963469040518947, 0.9671526330298665]\n"
     ]
    }
   ],
   "source": [
    "rc_auroc_mod = sorted(rc_auroc)[5:]\n",
    "siamese_auroc_mod = sorted(siamese_auroc)[5:]\n",
    "reg_auroc_mod = sorted(reg_auroc)[5:]\n",
    "print(rc_auroc_mod)\n",
    "print(siamese_auroc_mod)\n",
    "print(reg_auroc_mod)"
   ]
  },
  {
   "cell_type": "code",
   "execution_count": 80,
   "metadata": {},
   "outputs": [
    {
     "data": {
      "text/plain": [
       "50.0"
      ]
     },
     "execution_count": 80,
     "metadata": {},
     "output_type": "execute_result"
    }
   ],
   "source": [
    "mannwhitneyu(rc_auroc_mod, siamese_auroc_mod)"
   ]
  },
  {
   "cell_type": "code",
   "execution_count": 81,
   "metadata": {},
   "outputs": [
    {
     "data": {
      "text/plain": [
       "1.0"
      ]
     },
     "execution_count": 81,
     "metadata": {},
     "output_type": "execute_result"
    }
   ],
   "source": [
    "mannwhitneyu(rc_auroc_mod, reg_auroc_mod)"
   ]
  },
  {
   "cell_type": "code",
   "execution_count": 82,
   "metadata": {},
   "outputs": [
    {
     "data": {
      "text/plain": [
       "0.0"
      ]
     },
     "execution_count": 82,
     "metadata": {},
     "output_type": "execute_result"
    }
   ],
   "source": [
    "mannwhitneyu(siamese_auroc_mod, reg_auroc_mod)"
   ]
  },
  {
   "cell_type": "code",
   "execution_count": null,
   "metadata": {},
   "outputs": [],
   "source": []
  }
 ],
 "metadata": {
  "kernelspec": {
   "display_name": "Python 3",
   "language": "python",
   "name": "python3"
  },
  "language_info": {
   "codemirror_mode": {
    "name": "ipython",
    "version": 3
   },
   "file_extension": ".py",
   "mimetype": "text/x-python",
   "name": "python",
   "nbconvert_exporter": "python",
   "pygments_lexer": "ipython3",
   "version": "3.7.3"
  }
 },
 "nbformat": 4,
 "nbformat_minor": 2
}
