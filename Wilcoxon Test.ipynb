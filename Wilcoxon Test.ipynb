{
 "cells": [
  {
   "cell_type": "code",
   "execution_count": 1,
   "metadata": {},
   "outputs": [
    {
     "name": "stdout",
     "output_type": "stream",
     "text": [
      "Requirement already satisfied: abstention in /users/hannahgz/anaconda3/lib/python3.7/site-packages (0.1.2.1)\n",
      "Requirement already satisfied: scikit-learn>=0.20.0 in /users/hannahgz/anaconda3/lib/python3.7/site-packages (from abstention) (0.20.3)\n",
      "Requirement already satisfied: numpy>=1.9 in /users/hannahgz/anaconda3/lib/python3.7/site-packages (from abstention) (1.16.2)\n",
      "Requirement already satisfied: scipy>=1.1.0 in /users/hannahgz/anaconda3/lib/python3.7/site-packages (from abstention) (1.2.1)\n"
     ]
    }
   ],
   "source": [
    "from __future__ import division, print_function\n",
    "import numpy as np\n",
    "!pip install abstention\n",
    "from abstention.figure_making_utils import wilcox_srs"
   ]
  },
  {
   "cell_type": "code",
   "execution_count": 2,
   "metadata": {},
   "outputs": [],
   "source": [
    "import os\n",
    "files = []\n",
    " \n",
    "for entry in os.scandir('/users/hannahgz/revcomp_experiments/standard_no_batch_rev_variance_inc_poolsize/Results'):\n",
    "    if entry.is_file():\n",
    "        files.append(entry.path)\n",
    "        \n",
    "rc_auroc = []\n",
    "reg_auroc = []\n",
    "siamese_auroc = []\n",
    "\n",
    "rc_auprc = []\n",
    "reg_auprc = []\n",
    "siamese_auprc = []\n",
    "\n",
    "for file in files: \n",
    "    f = open(file, \"r\")\n",
    "    lines = f.readlines()\n",
    "    rc_auroc.append(float(lines[1][6:-1]))\n",
    "    reg_auroc.append(float(lines[4][6:-1]))\n",
    "    siamese_auroc.append(float(lines[7][6:-1]))\n",
    "    \n",
    "    rc_auprc.append(float(lines[2][6:-1]))\n",
    "    reg_auprc.append(float(lines[5][6:-1]))\n",
    "    siamese_auprc.append(float(lines[8][6:-1]))\n"
   ]
  },
  {
   "cell_type": "code",
   "execution_count": 4,
   "metadata": {},
   "outputs": [
    {
     "data": {
      "text/plain": [
       "-47.0000001"
      ]
     },
     "execution_count": 4,
     "metadata": {},
     "output_type": "execute_result"
    }
   ],
   "source": [
    "wilcox_srs(rc_auroc, siamese_auroc)"
   ]
  },
  {
   "cell_type": "code",
   "execution_count": null,
   "metadata": {},
   "outputs": [],
   "source": [
    "import os\n",
    "file_no_batch = []\n",
    " \n",
    "for entry in os.scandir('/users/hannahgz/revcomp_experiments/standard_no_batch/Results'):\n",
    "    if entry.is_file():\n",
    "        file_no_batch.append(entry.path)\n",
    "        \n",
    "rc_no_batch_auroc = []\n",
    "reg_no_batch_auroc = []\n",
    "siamese_no_batch_auroc = []\n",
    "\n",
    "rc_no_batch_auprc = []\n",
    "reg_no_batch_auprc = []\n",
    "siamese_no_batch_auprc = []\n",
    "\n",
    "for file in file_no_batch: \n",
    "    f = open(file, \"r\")\n",
    "    lines = f.readlines()\n",
    "    rc_no_batch_auroc.append(float(lines[1][6:-1]))\n",
    "    reg_no_batch_auroc.append(float(lines[4][6:-1]))\n",
    "    siamese_no_batch_auroc.append(float(lines[7][6:-1]))\n",
    "    \n",
    "    rc_no_batch_auprc.append(float(lines[2][6:-1]))\n",
    "    reg_no_batch_auprc.append(float(lines[5][6:-1]))\n",
    "    siamese_no_batch_auprc.append(float(lines[8][6:-1]))\n"
   ]
  },
  {
   "cell_type": "code",
   "execution_count": 11,
   "metadata": {},
   "outputs": [],
   "source": [
    "file_batch = []\n",
    " \n",
    "for entry in os.scandir('/users/hannahgz/revcomp_experiments/standard_batch/Results'):\n",
    "    if entry.is_file():\n",
    "        file_batch.append(entry.path)\n",
    "        \n",
    "rc_batch_auroc = []\n",
    "reg_batch_auroc = []\n",
    "siamese_batch_auroc = []\n",
    "\n",
    "rc_batch_auprc = []\n",
    "reg_batch_auprc = []\n",
    "siamese_batch_auprc = []\n",
    "\n",
    "for file in file_batch: \n",
    "    f = open(file, \"r\")\n",
    "    lines = f.readlines()\n",
    "    rc_batch_auroc.append(float(lines[1][6:-1]))\n",
    "    reg_batch_auroc.append(float(lines[4][6:-1]))\n",
    "    siamese_batch_auroc.append(float(lines[7][6:-1]))\n",
    "    \n",
    "    rc_batch_auprc.append(float(lines[2][6:-1]))\n",
    "    reg_batch_auprc.append(float(lines[5][6:-1]))\n",
    "    siamese_batch_auprc.append(float(lines[8][6:-1]))\n"
   ]
  },
  {
   "cell_type": "code",
   "execution_count": 20,
   "metadata": {},
   "outputs": [
    {
     "data": {
      "text/plain": [
       "51.0000001"
      ]
     },
     "execution_count": 20,
     "metadata": {},
     "output_type": "execute_result"
    }
   ],
   "source": [
    "wilcox_srs(rc_no_batch_auroc, rc_batch_auroc)"
   ]
  },
  {
   "cell_type": "code",
   "execution_count": 21,
   "metadata": {},
   "outputs": [
    {
     "data": {
      "text/plain": [
       "36.0000001"
      ]
     },
     "execution_count": 21,
     "metadata": {},
     "output_type": "execute_result"
    }
   ],
   "source": [
    "wilcox_srs(reg_no_batch_auroc, reg_batch_auroc)"
   ]
  },
  {
   "cell_type": "code",
   "execution_count": 22,
   "metadata": {},
   "outputs": [
    {
     "data": {
      "text/plain": [
       "49.0000001"
      ]
     },
     "execution_count": 22,
     "metadata": {},
     "output_type": "execute_result"
    }
   ],
   "source": [
    "wilcox_srs(rc_no_batch_auroc, reg_no_batch_auroc)"
   ]
  },
  {
   "cell_type": "code",
   "execution_count": 23,
   "metadata": {},
   "outputs": [
    {
     "data": {
      "text/plain": [
       "37.0000001"
      ]
     },
     "execution_count": 23,
     "metadata": {},
     "output_type": "execute_result"
    }
   ],
   "source": [
    "wilcox_srs(rc_batch_auroc, reg_batch_auroc)"
   ]
  },
  {
   "cell_type": "code",
   "execution_count": 24,
   "metadata": {},
   "outputs": [
    {
     "data": {
      "text/plain": [
       "-35.0000001"
      ]
     },
     "execution_count": 24,
     "metadata": {},
     "output_type": "execute_result"
    }
   ],
   "source": [
    "wilcox_srs(rc_batch_auroc, siamese_batch_auroc)"
   ]
  },
  {
   "cell_type": "code",
   "execution_count": 25,
   "metadata": {},
   "outputs": [
    {
     "data": {
      "text/plain": [
       "-30.0000001"
      ]
     },
     "execution_count": 25,
     "metadata": {},
     "output_type": "execute_result"
    }
   ],
   "source": [
    "wilcox_srs(rc_no_batch_auroc, siamese_no_batch_auroc)"
   ]
  },
  {
   "cell_type": "code",
   "execution_count": 26,
   "metadata": {},
   "outputs": [
    {
     "data": {
      "text/plain": [
       "1e-07"
      ]
     },
     "execution_count": 26,
     "metadata": {},
     "output_type": "execute_result"
    }
   ],
   "source": [
    "wilcox_srs(siamese_batch_auroc, reg_batch_auroc)"
   ]
  },
  {
   "cell_type": "code",
   "execution_count": 27,
   "metadata": {},
   "outputs": [
    {
     "data": {
      "text/plain": [
       "11.0000001"
      ]
     },
     "execution_count": 27,
     "metadata": {},
     "output_type": "execute_result"
    }
   ],
   "source": [
    "wilcox_srs(siamese_no_batch_auroc, reg_no_batch_auroc)"
   ]
  },
  {
   "cell_type": "markdown",
   "metadata": {},
   "source": [
    "# he initializaiton and no batch normalization"
   ]
  },
  {
   "cell_type": "code",
   "execution_count": 28,
   "metadata": {},
   "outputs": [],
   "source": [
    "files_he = []\n",
    " \n",
    "for entry in os.scandir('/mnt/lab_data2/hannahgz/revcomp_experiments/revcomp_experiments/he_no_batch/Results'):\n",
    "    if entry.is_file():\n",
    "        files_he.append(entry.path)\n",
    "        \n",
    "rc_he_auroc = []\n",
    "reg_he_auroc = []\n",
    "siamese_he_auroc = []\n",
    "\n",
    "rc_he_auprc = []\n",
    "reg_he_auprc = []\n",
    "siamese_he_auprc = []\n",
    "\n",
    "for file in files_he: \n",
    "    f = open(file, \"r\")\n",
    "    lines = f.readlines()\n",
    "    rc_he_auroc.append(float(lines[1][6:-1]))\n",
    "    reg_he_auroc.append(float(lines[4][6:-1]))\n",
    "    siamese_he_auroc.append(float(lines[7][6:-1]))\n",
    "    \n",
    "    rc_he_auprc.append(float(lines[2][6:-1]))\n",
    "    reg_he_auprc.append(float(lines[5][6:-1]))\n",
    "    siamese_he_auprc.append(float(lines[8][6:-1]))\n"
   ]
  },
  {
   "cell_type": "code",
   "execution_count": 40,
   "metadata": {},
   "outputs": [
    {
     "name": "stdout",
     "output_type": "stream",
     "text": [
      "[0.77046749895164, 0.7143021585382783, 0.7125866500362886, 0.7562416521203037, 0.838812595073194, 0.7392530441158025, 0.5210744029089551, 0.8084788353149943]\n"
     ]
    }
   ],
   "source": [
    "files_he_batch = []\n",
    " \n",
    "for entry in os.scandir('/mnt/lab_data2/hannahgz/revcomp_experiments/revcomp_experiments/he_batch/Results'):\n",
    "    if entry.is_file():\n",
    "        files_he_batch.append(entry.path)\n",
    "        \n",
    "rc_he_batch_auroc = []\n",
    "reg_he_batch_auroc = []\n",
    "siamese_he_batch_auroc = []\n",
    "\n",
    "rc_he_batch_auprc = []\n",
    "reg_he_batch_auprc = []\n",
    "siamese_he_batch_auprc = []\n",
    "\n",
    "for file in files_he_batch: \n",
    "    f = open(file, \"r\")\n",
    "    lines = f.readlines()\n",
    "    if file == \"/mnt/lab_data2/hannahgz/revcomp_experiments/revcomp_experiments/he_batch/Results/Seed 1000.txt\": \n",
    "        rc_he_batch_auroc.append(float(lines[1][6:-1]))\n",
    "        reg_he_batch_auroc.append(float(lines[4][6:-1]))\n",
    "        siamese_he_batch_auroc.append(float(lines[7][6:-1]))\n",
    "        rc_he_batch_auprc.append(float(lines[2][6:-1]))\n",
    "        reg_he_batch_auprc.append(float(lines[5][6:-1]))\n",
    "        siamese_he_batch_auprc.append(float(lines[8][6:-1]))\n",
    "    else: \n",
    "        reg_he_batch_auroc.append(float(lines[1][6:-1]))\n",
    "        siamese_he_batch_auroc.append(float(lines[4][6:-1]))\n",
    "        reg_he_batch_auprc.append(float(lines[2][6:-1]))\n",
    "        siamese_he_batch_auprc.append(float(lines[5][6:-1]))"
   ]
  },
  {
   "cell_type": "code",
   "execution_count": 40,
   "metadata": {},
   "outputs": [
    {
     "name": "stdout",
     "output_type": "stream",
     "text": [
      "[0.77046749895164, 0.7143021585382783, 0.7125866500362886, 0.7562416521203037, 0.838812595073194, 0.7392530441158025, 0.5210744029089551, 0.8084788353149943]\n"
     ]
    }
   ],
   "source": [
    "files_standard_batch = []\n",
    " \n",
    "for entry in os.scandir('/mnt/lab_data2/hannahgz/revcomp_experiments/revcomp_experiments/standard_batch/Results'):\n",
    "    if entry.is_file():\n",
    "        files_standard_batch.append(entry.path)\n",
    "        \n",
    "rc_standard_batch_auroc = []\n",
    "reg_standard_batch_auroc = []\n",
    "siamese_standard_batch_auroc = []\n",
    "\n",
    "rc_standard_batch_auprc = []\n",
    "reg_standard_batch_auprc = []\n",
    "siamese_standard_batch_auprc = []\n",
    "\n",
    "for file in files_standard_batch: \n",
    "    f = open(file, \"r\")\n",
    "    lines = f.readlines()\n",
    "    rc_standard_batch_auroc.append(float(lines[1][6:-1]))\n",
    "    reg_standard_batch_auroc.append(float(lines[4][6:-1]))\n",
    "    siamese_standard_batch_auroc.append(float(lines[7][6:-1]))\n",
    "    rc_standard_batch_auprc.append(float(lines[2][6:-1]))\n",
    "    reg_standard_batch_auprc.append(float(lines[5][6:-1]))\n",
    "    siamese_standard_batch_auprc.append(float(lines[8][6:-1]))"
   ]
  },
  {
   "cell_type": "code",
   "execution_count": 41,
   "metadata": {},
   "outputs": [
    {
     "data": {
      "text/plain": [
       "16.0000001"
      ]
     },
     "execution_count": 41,
     "metadata": {},
     "output_type": "execute_result"
    }
   ],
   "source": [
    "wilcox_srs(reg_he_auroc, reg_he_batch_auroc)"
   ]
  },
  {
   "cell_type": "code",
   "execution_count": 42,
   "metadata": {},
   "outputs": [
    {
     "data": {
      "text/plain": [
       "15.0000001"
      ]
     },
     "execution_count": 42,
     "metadata": {},
     "output_type": "execute_result"
    }
   ],
   "source": [
    "wilcox_srs(reg_he_auprc, reg_he_batch_auprc)"
   ]
  },
  {
   "cell_type": "code",
   "execution_count": 45,
   "metadata": {},
   "outputs": [
    {
     "data": {
      "text/plain": [
       "3.0000001"
      ]
     },
     "execution_count": 45,
     "metadata": {},
     "output_type": "execute_result"
    }
   ],
   "source": [
    "wilcox_srs(siamese_he_auroc, siamese_he_batch_auroc)"
   ]
  },
  {
   "cell_type": "code",
   "execution_count": 46,
   "metadata": {},
   "outputs": [
    {
     "data": {
      "text/plain": [
       "3.0000001"
      ]
     },
     "execution_count": 46,
     "metadata": {},
     "output_type": "execute_result"
    }
   ],
   "source": [
    "wilcox_srs(siamese_he_auprc, siamese_he_batch_auprc)"
   ]
  },
  {
   "cell_type": "code",
   "execution_count": 47,
   "metadata": {},
   "outputs": [
    {
     "data": {
      "text/plain": [
       "'he_initialization with no batch normalization works better for both regular and siamese models'"
      ]
     },
     "execution_count": 47,
     "metadata": {},
     "output_type": "execute_result"
    }
   ],
   "source": [
    "\"\"\"he_initialization with no batch normalization works better for both regular and siamese models\"\"\""
   ]
  },
  {
   "cell_type": "code",
   "execution_count": null,
   "metadata": {},
   "outputs": [],
   "source": []
  }
 ],
 "metadata": {
  "kernelspec": {
   "display_name": "Python 3",
   "language": "python",
   "name": "python3"
  },
  "language_info": {
   "codemirror_mode": {
    "name": "ipython",
    "version": 3
   },
   "file_extension": ".py",
   "mimetype": "text/x-python",
   "name": "python",
   "nbconvert_exporter": "python",
   "pygments_lexer": "ipython3",
   "version": "3.7.3"
  }
 },
 "nbformat": 4,
 "nbformat_minor": 2
}
