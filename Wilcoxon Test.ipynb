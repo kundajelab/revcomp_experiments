{
 "cells": [
  {
   "cell_type": "code",
   "execution_count": 1,
   "metadata": {},
   "outputs": [
    {
     "name": "stdout",
     "output_type": "stream",
     "text": [
      "Collecting abstention\n",
      "  Downloading https://files.pythonhosted.org/packages/34/a7/252f763b241d59ffc8bf6422dbf6866347c417800e986450ab60b4b5b226/abstention-0.1.2.1.tar.gz\n",
      "Requirement already satisfied: numpy>=1.9 in /mnt/lab_data2/hannahgz/anaconda3/lib/python3.7/site-packages (from abstention) (1.16.2)\n",
      "Requirement already satisfied: scikit-learn>=0.20.0 in /mnt/lab_data2/hannahgz/anaconda3/lib/python3.7/site-packages (from abstention) (0.20.3)\n",
      "Requirement already satisfied: scipy>=1.1.0 in /mnt/lab_data2/hannahgz/anaconda3/lib/python3.7/site-packages (from abstention) (1.2.1)\n",
      "Building wheels for collected packages: abstention\n",
      "  Building wheel for abstention (setup.py) ... \u001b[?25ldone\n",
      "\u001b[?25h  Stored in directory: /mnt/lab_data2/hannahgz/.cache/pip/wheels/46/14/42/7279d8e038bd15155d973f24cfd2e7970ac20c647466b4cb7d\n",
      "Successfully built abstention\n",
      "Installing collected packages: abstention\n",
      "Successfully installed abstention-0.1.2.1\n"
     ]
    }
   ],
   "source": [
    "from __future__ import division, print_function\n",
    "import numpy as np\n",
    "!pip install abstention\n",
    "from abstention.figure_making_utils import wilcox_srs"
   ]
  },
  {
   "cell_type": "markdown",
   "metadata": {},
   "source": [
    "# he initializaiton and no batch normalization"
   ]
  },
  {
   "cell_type": "code",
   "execution_count": 28,
   "metadata": {},
   "outputs": [],
   "source": [
    "import os\n",
    "\n",
    "files_he = []\n",
    " \n",
    "for entry in os.scandir('/mnt/lab_data2/hannahgz/revcomp_experiments/revcomp_experiments/he_no_batch/Results'):\n",
    "    if entry.is_file():\n",
    "        files_he.append(entry.path)\n",
    "        \n",
    "rc_he_auroc = []\n",
    "reg_he_auroc = []\n",
    "siamese_he_auroc = []\n",
    "\n",
    "rc_he_auprc = []\n",
    "reg_he_auprc = []\n",
    "siamese_he_auprc = []\n",
    "\n",
    "for file in files_he: \n",
    "    f = open(file, \"r\")\n",
    "    lines = f.readlines()\n",
    "    rc_he_auroc.append(float(lines[1][6:-1]))\n",
    "    reg_he_auroc.append(float(lines[4][6:-1]))\n",
    "    siamese_he_auroc.append(float(lines[7][6:-1]))\n",
    "    \n",
    "    rc_he_auprc.append(float(lines[2][6:-1]))\n",
    "    reg_he_auprc.append(float(lines[5][6:-1]))\n",
    "    siamese_he_auprc.append(float(lines[8][6:-1]))\n"
   ]
  },
  {
   "cell_type": "code",
   "execution_count": 40,
   "metadata": {},
   "outputs": [
    {
     "name": "stdout",
     "output_type": "stream",
     "text": [
      "[0.77046749895164, 0.7143021585382783, 0.7125866500362886, 0.7562416521203037, 0.838812595073194, 0.7392530441158025, 0.5210744029089551, 0.8084788353149943]\n"
     ]
    }
   ],
   "source": [
    "files_he_batch = []\n",
    " \n",
    "for entry in os.scandir('/mnt/lab_data2/hannahgz/revcomp_experiments/revcomp_experiments/he_batch/Results'):\n",
    "    if entry.is_file():\n",
    "        files_he_batch.append(entry.path)\n",
    "        \n",
    "rc_he_batch_auroc = []\n",
    "reg_he_batch_auroc = []\n",
    "siamese_he_batch_auroc = []\n",
    "\n",
    "rc_he_batch_auprc = []\n",
    "reg_he_batch_auprc = []\n",
    "siamese_he_batch_auprc = []\n",
    "\n",
    "for file in files_he_batch: \n",
    "    f = open(file, \"r\")\n",
    "    lines = f.readlines()\n",
    "    if file == \"/mnt/lab_data2/hannahgz/revcomp_experiments/revcomp_experiments/he_batch/Results/Seed 1000.txt\": \n",
    "        rc_he_batch_auroc.append(float(lines[1][6:-1]))\n",
    "        reg_he_batch_auroc.append(float(lines[4][6:-1]))\n",
    "        siamese_he_batch_auroc.append(float(lines[7][6:-1]))\n",
    "        rc_he_batch_auprc.append(float(lines[2][6:-1]))\n",
    "        reg_he_batch_auprc.append(float(lines[5][6:-1]))\n",
    "        siamese_he_batch_auprc.append(float(lines[8][6:-1]))\n",
    "    else: \n",
    "        reg_he_batch_auroc.append(float(lines[1][6:-1]))\n",
    "        siamese_he_batch_auroc.append(float(lines[4][6:-1]))\n",
    "        reg_he_batch_auprc.append(float(lines[2][6:-1]))\n",
    "        siamese_he_batch_auprc.append(float(lines[5][6:-1]))"
   ]
  },
  {
   "cell_type": "code",
   "execution_count": 40,
   "metadata": {},
   "outputs": [
    {
     "name": "stdout",
     "output_type": "stream",
     "text": [
      "[0.77046749895164, 0.7143021585382783, 0.7125866500362886, 0.7562416521203037, 0.838812595073194, 0.7392530441158025, 0.5210744029089551, 0.8084788353149943]\n"
     ]
    }
   ],
   "source": [
    "files_standard_batch = []\n",
    " \n",
    "for entry in os.scandir('/mnt/lab_data2/hannahgz/revcomp_experiments/revcomp_experiments/standard_batch/Results'):\n",
    "    if entry.is_file():\n",
    "        files_standard_batch.append(entry.path)\n",
    "        \n",
    "rc_standard_batch_auroc = []\n",
    "reg_standard_batch_auroc = []\n",
    "siamese_standard_batch_auroc = []\n",
    "\n",
    "rc_standard_batch_auprc = []\n",
    "reg_standard_batch_auprc = []\n",
    "siamese_standard_batch_auprc = []\n",
    "\n",
    "for file in files_standard_batch: \n",
    "    f = open(file, \"r\")\n",
    "    lines = f.readlines()\n",
    "    rc_standard_batch_auroc.append(float(lines[1][6:-1]))\n",
    "    reg_standard_batch_auroc.append(float(lines[4][6:-1]))\n",
    "    siamese_standard_batch_auroc.append(float(lines[7][6:-1]))\n",
    "    rc_standard_batch_auprc.append(float(lines[2][6:-1]))\n",
    "    reg_standard_batch_auprc.append(float(lines[5][6:-1]))\n",
    "    siamese_standard_batch_auprc.append(float(lines[8][6:-1]))"
   ]
  },
  {
   "cell_type": "code",
   "execution_count": 41,
   "metadata": {},
   "outputs": [
    {
     "data": {
      "text/plain": [
       "16.0000001"
      ]
     },
     "execution_count": 41,
     "metadata": {},
     "output_type": "execute_result"
    }
   ],
   "source": [
    "wilcox_srs(reg_he_auroc, reg_he_batch_auroc)"
   ]
  },
  {
   "cell_type": "code",
   "execution_count": 42,
   "metadata": {},
   "outputs": [
    {
     "data": {
      "text/plain": [
       "15.0000001"
      ]
     },
     "execution_count": 42,
     "metadata": {},
     "output_type": "execute_result"
    }
   ],
   "source": [
    "wilcox_srs(reg_he_auprc, reg_he_batch_auprc)"
   ]
  },
  {
   "cell_type": "code",
   "execution_count": 45,
   "metadata": {},
   "outputs": [
    {
     "data": {
      "text/plain": [
       "3.0000001"
      ]
     },
     "execution_count": 45,
     "metadata": {},
     "output_type": "execute_result"
    }
   ],
   "source": [
    "wilcox_srs(siamese_he_auroc, siamese_he_batch_auroc)"
   ]
  },
  {
   "cell_type": "code",
   "execution_count": 46,
   "metadata": {},
   "outputs": [
    {
     "data": {
      "text/plain": [
       "3.0000001"
      ]
     },
     "execution_count": 46,
     "metadata": {},
     "output_type": "execute_result"
    }
   ],
   "source": [
    "wilcox_srs(siamese_he_auprc, siamese_he_batch_auprc)"
   ]
  },
  {
   "cell_type": "code",
   "execution_count": 47,
   "metadata": {},
   "outputs": [
    {
     "data": {
      "text/plain": [
       "'he_initialization with no batch normalization works better for both regular and siamese models'"
      ]
     },
     "execution_count": 47,
     "metadata": {},
     "output_type": "execute_result"
    }
   ],
   "source": [
    "\"\"\"he_initialization with no batch normalization works better for both regular and siamese models\"\"\""
   ]
  },
  {
   "cell_type": "code",
   "execution_count": null,
   "metadata": {},
   "outputs": [],
   "source": []
  }
 ],
 "metadata": {
  "kernelspec": {
   "display_name": "Python 3",
   "language": "python",
   "name": "python3"
  },
  "language_info": {
   "codemirror_mode": {
    "name": "ipython",
    "version": 3
   },
   "file_extension": ".py",
   "mimetype": "text/x-python",
   "name": "python",
   "nbconvert_exporter": "python",
   "pygments_lexer": "ipython3",
   "version": "3.7.3"
  }
 },
 "nbformat": 4,
 "nbformat_minor": 2
}
