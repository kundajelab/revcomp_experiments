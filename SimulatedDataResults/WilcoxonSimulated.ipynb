{
 "cells": [
  {
   "cell_type": "code",
   "execution_count": 2,
   "metadata": {},
   "outputs": [
    {
     "name": "stdout",
     "output_type": "stream",
     "text": [
      "Requirement already satisfied: abstention in /users/hannahgz/anaconda3/lib/python3.7/site-packages (0.1.2.1)\n",
      "Requirement already satisfied: scipy>=1.1.0 in /users/hannahgz/anaconda3/lib/python3.7/site-packages (from abstention) (1.2.1)\n",
      "Requirement already satisfied: numpy>=1.9 in /users/hannahgz/anaconda3/lib/python3.7/site-packages (from abstention) (1.16.2)\n",
      "Requirement already satisfied: scikit-learn>=0.20.0 in /users/hannahgz/anaconda3/lib/python3.7/site-packages (from abstention) (0.20.3)\n"
     ]
    }
   ],
   "source": [
    "from __future__ import division, print_function\n",
    "import numpy as np\n",
    "!pip install abstention\n",
    "from abstention.figure_making_utils import wilcox_srs"
   ]
  },
  {
   "cell_type": "code",
   "execution_count": 4,
   "metadata": {},
   "outputs": [],
   "source": [
    "import os\n",
    "files = []\n",
    " \n",
    "for entry in os.scandir('/users/hannahgz/revcomp_experiments/SimulatedDataResults/Results/OtherResults'):\n",
    "    if entry.is_file():\n",
    "        files.append(entry.path)\n",
    "        \n",
    "rc_no_dropout_auroc = []\n",
    "rc_spatial_dropout_auroc = []\n",
    "rc_mc_dropout_auroc = [] \n",
    "augment_no_dropout_auroc = [] \n",
    "augment_dropout_auroc = []\n",
    "\n",
    "for file in files: \n",
    "    f = open(file, \"r\")\n",
    "    lines = f.readlines()\n",
    "    rc_no_dropout_auroc.append(float(lines[1][6:-1]))\n",
    "    rc_spatial_dropout_auroc.append(float(lines[6][6:-1]))\n",
    "    rc_mc_dropout_auroc.append(float(lines[11][6:-1]))\n",
    "    augment_no_dropout_auroc.append(float(lines[14][6:-1]))\n",
    "    augment_dropout_auroc.append(float(lines[19][6:-1]))\n"
   ]
  },
  {
   "cell_type": "code",
   "execution_count": 5,
   "metadata": {},
   "outputs": [],
   "source": [
    "files = []\n",
    "for entry in os.scandir('/users/hannahgz/revcomp_experiments/SimulatedDataResults/Results/SiameseResults'):\n",
    "    if entry.is_file():\n",
    "        files.append(entry.path)\n",
    "        \n",
    "siamese_no_dropout_auroc = []\n",
    "siamese_dropout_auroc = []\n",
    "\n",
    "for file in files: \n",
    "    f = open(file, \"r\")\n",
    "    lines = f.readlines()\n",
    "    siamese_no_dropout_auroc.append(float(lines[1][6:-1]))\n",
    "    siamese_dropout_auroc.append(float(lines[4][6:-1]))\n"
   ]
  },
  {
   "cell_type": "code",
   "execution_count": 6,
   "metadata": {},
   "outputs": [
    {
     "data": {
      "text/plain": [
       "[0.9587787318475995,\n",
       " 0.9640978032758964,\n",
       " 0.9654358602788486,\n",
       " 0.745407886952094,\n",
       " 0.9529224362111912,\n",
       " 0.9638720818877414,\n",
       " 0.9679166071752893,\n",
       " 0.9663774648288006,\n",
       " 0.752530276540567,\n",
       " 0.5009857074320476]"
      ]
     },
     "execution_count": 6,
     "metadata": {},
     "output_type": "execute_result"
    }
   ],
   "source": [
    "rc_no_dropout_auroc"
   ]
  },
  {
   "cell_type": "code",
   "execution_count": 7,
   "metadata": {},
   "outputs": [
    {
     "data": {
      "text/plain": [
       "[0.975632079154301,\n",
       " 0.9679765070888764,\n",
       " 0.977028471983522,\n",
       " 0.9754444208492294,\n",
       " 0.9740752630811004,\n",
       " 0.975518370214588,\n",
       " 0.9745159721683196,\n",
       " 0.9693390839019327,\n",
       " 0.8068919529717097,\n",
       " 0.9733751776383937]"
      ]
     },
     "execution_count": 7,
     "metadata": {},
     "output_type": "execute_result"
    }
   ],
   "source": [
    "rc_spatial_dropout_auroc"
   ]
  },
  {
   "cell_type": "code",
   "execution_count": 8,
   "metadata": {},
   "outputs": [
    {
     "data": {
      "text/plain": [
       "[0.9743618879550832,\n",
       " 0.9708278019146797,\n",
       " 0.975528629128571,\n",
       " 0.9757236835312599,\n",
       " 0.7530602683038243,\n",
       " 0.6389005080699383,\n",
       " 0.9771533324295754,\n",
       " 0.9695934754134607,\n",
       " 0.9749713489989233,\n",
       " 0.9765192133053471]"
      ]
     },
     "execution_count": 8,
     "metadata": {},
     "output_type": "execute_result"
    }
   ],
   "source": [
    "rc_mc_dropout_auroc"
   ]
  },
  {
   "cell_type": "code",
   "execution_count": 9,
   "metadata": {},
   "outputs": [
    {
     "data": {
      "text/plain": [
       "[0.970629992940294,\n",
       " 0.967219153161112,\n",
       " 0.9676209503625284,\n",
       " 0.9685558436280972,\n",
       " 0.9686647563605235,\n",
       " 0.9715978923985253,\n",
       " 0.9729314396888866,\n",
       " 0.9685890862842503,\n",
       " 0.9691964004160751,\n",
       " 0.9692582745180292]"
      ]
     },
     "execution_count": 9,
     "metadata": {},
     "output_type": "execute_result"
    }
   ],
   "source": [
    "augment_no_dropout_auroc"
   ]
  },
  {
   "cell_type": "code",
   "execution_count": 10,
   "metadata": {},
   "outputs": [
    {
     "data": {
      "text/plain": [
       "[0.9762546603919571,\n",
       " 0.9770424277075799,\n",
       " 0.9779347048567655,\n",
       " 0.9755637108908477,\n",
       " 0.9713591003190345,\n",
       " 0.9773905717847651,\n",
       " 0.9785165391331622,\n",
       " 0.9744024829941398,\n",
       " 0.9764163205621919,\n",
       " 0.975225744641735]"
      ]
     },
     "execution_count": 10,
     "metadata": {},
     "output_type": "execute_result"
    }
   ],
   "source": [
    "augment_dropout_auroc"
   ]
  },
  {
   "cell_type": "code",
   "execution_count": 11,
   "metadata": {},
   "outputs": [
    {
     "data": {
      "text/plain": [
       "[0.9708825863457109,\n",
       " 0.7740684488656038,\n",
       " 0.9718966167206841,\n",
       " 0.9687310246555372,\n",
       " 0.9728140838137378,\n",
       " 0.9662633944938941,\n",
       " 0.9740083713860496,\n",
       " 0.9426107260279627,\n",
       " 0.9746565821547947,\n",
       " 0.9715276040267827]"
      ]
     },
     "execution_count": 11,
     "metadata": {},
     "output_type": "execute_result"
    }
   ],
   "source": [
    "siamese_no_dropout_auroc"
   ]
  },
  {
   "cell_type": "code",
   "execution_count": 12,
   "metadata": {},
   "outputs": [
    {
     "data": {
      "text/plain": [
       "[0.9720419147745989,\n",
       " 0.978012629772949,\n",
       " 0.9514759227703757,\n",
       " 0.9749214402088117,\n",
       " 0.9773679134676353,\n",
       " 0.978875085439038,\n",
       " 0.9771613352984526,\n",
       " 0.9775661550303321,\n",
       " 0.9758786723815209,\n",
       " 0.749492020667342]"
      ]
     },
     "execution_count": 12,
     "metadata": {},
     "output_type": "execute_result"
    }
   ],
   "source": [
    "siamese_dropout_auroc"
   ]
  },
  {
   "cell_type": "code",
   "execution_count": 13,
   "metadata": {},
   "outputs": [
    {
     "data": {
      "text/plain": [
       "-1e-07"
      ]
     },
     "execution_count": 13,
     "metadata": {},
     "output_type": "execute_result"
    }
   ],
   "source": [
    "wilcox_srs(rc_no_dropout_auroc, rc_spatial_dropout_auroc)"
   ]
  },
  {
   "cell_type": "code",
   "execution_count": 14,
   "metadata": {},
   "outputs": [
    {
     "data": {
      "text/plain": [
       "-15.0000001"
      ]
     },
     "execution_count": 14,
     "metadata": {},
     "output_type": "execute_result"
    }
   ],
   "source": [
    "wilcox_srs(rc_no_dropout_auroc, rc_mc_dropout_auroc)"
   ]
  },
  {
   "cell_type": "code",
   "execution_count": 15,
   "metadata": {},
   "outputs": [
    {
     "data": {
      "text/plain": [
       "-26.0000001"
      ]
     },
     "execution_count": 15,
     "metadata": {},
     "output_type": "execute_result"
    }
   ],
   "source": [
    "wilcox_srs(rc_spatial_dropout_auroc, rc_mc_dropout_auroc)"
   ]
  },
  {
   "cell_type": "code",
   "execution_count": 16,
   "metadata": {},
   "outputs": [
    {
     "data": {
      "text/plain": [
       "-1e-07"
      ]
     },
     "execution_count": 16,
     "metadata": {},
     "output_type": "execute_result"
    }
   ],
   "source": [
    "wilcox_srs(augment_no_dropout_auroc, augment_dropout_auroc)"
   ]
  },
  {
   "cell_type": "code",
   "execution_count": 17,
   "metadata": {},
   "outputs": [
    {
     "data": {
      "text/plain": [
       "-17.0000001"
      ]
     },
     "execution_count": 17,
     "metadata": {},
     "output_type": "execute_result"
    }
   ],
   "source": [
    "wilcox_srs(siamese_no_dropout_auroc, siamese_dropout_auroc)"
   ]
  },
  {
   "cell_type": "code",
   "execution_count": 18,
   "metadata": {},
   "outputs": [
    {
     "data": {
      "text/plain": [
       "-6.0000001"
      ]
     },
     "execution_count": 18,
     "metadata": {},
     "output_type": "execute_result"
    }
   ],
   "source": [
    "wilcox_srs(rc_spatial_dropout_auroc, augment_dropout_auroc)"
   ]
  },
  {
   "cell_type": "code",
   "execution_count": 19,
   "metadata": {},
   "outputs": [
    {
     "data": {
      "text/plain": [
       "-3.0000001"
      ]
     },
     "execution_count": 19,
     "metadata": {},
     "output_type": "execute_result"
    }
   ],
   "source": [
    "wilcox_srs(rc_mc_dropout_auroc, augment_dropout_auroc)"
   ]
  },
  {
   "cell_type": "code",
   "execution_count": 20,
   "metadata": {},
   "outputs": [
    {
     "data": {
      "text/plain": [
       "-22.0000001"
      ]
     },
     "execution_count": 20,
     "metadata": {},
     "output_type": "execute_result"
    }
   ],
   "source": [
    "wilcox_srs(siamese_dropout_auroc, augment_dropout_auroc)"
   ]
  },
  {
   "cell_type": "code",
   "execution_count": 21,
   "metadata": {},
   "outputs": [
    {
     "data": {
      "text/plain": [
       "24.0000001"
      ]
     },
     "execution_count": 21,
     "metadata": {},
     "output_type": "execute_result"
    }
   ],
   "source": [
    "wilcox_srs(siamese_dropout_auroc, rc_spatial_dropout_auroc)"
   ]
  },
  {
   "cell_type": "code",
   "execution_count": 22,
   "metadata": {},
   "outputs": [
    {
     "data": {
      "text/plain": [
       "22.0000001"
      ]
     },
     "execution_count": 22,
     "metadata": {},
     "output_type": "execute_result"
    }
   ],
   "source": [
    "wilcox_srs(siamese_dropout_auroc, rc_mc_dropout_auroc)"
   ]
  },
  {
   "cell_type": "code",
   "execution_count": null,
   "metadata": {},
   "outputs": [],
   "source": []
  }
 ],
 "metadata": {
  "kernelspec": {
   "display_name": "Python 3",
   "language": "python",
   "name": "python3"
  },
  "language_info": {
   "codemirror_mode": {
    "name": "ipython",
    "version": 3
   },
   "file_extension": ".py",
   "mimetype": "text/x-python",
   "name": "python",
   "nbconvert_exporter": "python",
   "pygments_lexer": "ipython3",
   "version": "3.7.3"
  }
 },
 "nbformat": 4,
 "nbformat_minor": 2
}
