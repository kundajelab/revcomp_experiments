{
 "cells": [
  {
   "cell_type": "code",
   "execution_count": 13,
   "metadata": {},
   "outputs": [],
   "source": [
    "import json\n",
    "def get_results_from_config_augment(arr): \n",
    "    for seed_num in range(1000, 11000, 1000): \n",
    "        with open(\"/users/hannahgz/revcomp_experiments/CTCF_Architecture_Results/CTCF_5_Filters_All/augment/config_augment_5_filters_%s.json\" % (str(seed_num))) as json_file: \n",
    "            data = json.load(json_file)\n",
    "            print(\"Correlation: \", data[\"correlation\"])\n",
    "        arr.append(data[\"correlation\"])\n",
    "    return arr\n",
    "\n",
    "def get_results_from_config_siamese(arr): \n",
    "    for seed_num in range(1000, 11000, 1000): \n",
    "        with open(\"/users/hannahgz/revcomp_experiments/CTCF_Architecture_Results/CTCF_5_Filters_All/siamese/config_siamese_5_filters_%s.json\" % (str(seed_num))) as json_file: \n",
    "            data = json.load(json_file)\n",
    "            print(\"Correlation: \", data[\"correlation\"])\n",
    "        arr.append(data[\"correlation\"])\n",
    "    return arr\n",
    "\n",
    "def get_results_from_config_rc(arr): \n",
    "    for seed_num in range(1000, 11000, 1000): \n",
    "        with open(\"/users/hannahgz/revcomp_experiments/CTCF_Architecture_Results/CTCF_5_Filters_All/rev_comp/config_rc_5_filters_%s.json\" % (str(seed_num))) as json_file: \n",
    "            data = json.load(json_file)\n",
    "            print(\"Correlation: \", data[\"correlation\"])\n",
    "        arr.append(data[\"correlation\"])\n",
    "    return arr\n",
    "\n",
    "def get_results_from_config_reg(arr): \n",
    "    for seed_num in range(1000, 11000, 1000): \n",
    "        with open(\"/users/hannahgz/revcomp_experiments/CTCF_Architecture_Results/CTCF_5_Filters_All/regular/config_reg_5_filters_%s.json\" % (str(seed_num))) as json_file: \n",
    "            data = json.load(json_file)\n",
    "            print(\"Correlation: \", data[\"correlation\"])\n",
    "        arr.append(data[\"correlation\"])\n",
    "    return arr"
   ]
  },
  {
   "cell_type": "code",
   "execution_count": 25,
   "metadata": {},
   "outputs": [
    {
     "name": "stdout",
     "output_type": "stream",
     "text": [
      "augment\n",
      "Correlation:  0.623070925324073\n",
      "Correlation:  0.6227143210281475\n",
      "Correlation:  0.6315676873858815\n",
      "Correlation:  0.6385932911310715\n",
      "Correlation:  0.6220256746164182\n",
      "Correlation:  0.6274829830403268\n",
      "Correlation:  0.6087281441312419\n",
      "Correlation:  0.6413586803067858\n",
      "Correlation:  0.6308449069958564\n",
      "Correlation:  0.6180491180932912\n"
     ]
    },
    {
     "data": {
      "text/plain": [
       "[0.623070925324073,\n",
       " 0.6227143210281475,\n",
       " 0.6315676873858815,\n",
       " 0.6385932911310715,\n",
       " 0.6220256746164182,\n",
       " 0.6274829830403268,\n",
       " 0.6087281441312419,\n",
       " 0.6413586803067858,\n",
       " 0.6308449069958564,\n",
       " 0.6180491180932912]"
      ]
     },
     "execution_count": 25,
     "metadata": {},
     "output_type": "execute_result"
    }
   ],
   "source": [
    "augment = []\n",
    "print(\"augment\")\n",
    "get_results_from_config_augment(augment)"
   ]
  },
  {
   "cell_type": "code",
   "execution_count": 24,
   "metadata": {},
   "outputs": [
    {
     "name": "stdout",
     "output_type": "stream",
     "text": [
      "siamese\n",
      "Correlation:  0.6338110776333093\n",
      "Correlation:  0.636695949121064\n",
      "Correlation:  0.6396830182431432\n",
      "Correlation:  0.6353392429344314\n",
      "Correlation:  0.6382331896403437\n",
      "Correlation:  0.6382233665433599\n",
      "Correlation:  0.628821727290425\n",
      "Correlation:  0.6431714613650125\n",
      "Correlation:  0.637386311808577\n",
      "Correlation:  0.6209642910788308\n"
     ]
    },
    {
     "data": {
      "text/plain": [
       "[0.6338110776333093,\n",
       " 0.636695949121064,\n",
       " 0.6396830182431432,\n",
       " 0.6353392429344314,\n",
       " 0.6382331896403437,\n",
       " 0.6382233665433599,\n",
       " 0.628821727290425,\n",
       " 0.6431714613650125,\n",
       " 0.637386311808577,\n",
       " 0.6209642910788308]"
      ]
     },
     "execution_count": 24,
     "metadata": {},
     "output_type": "execute_result"
    }
   ],
   "source": [
    "siamese = []\n",
    "print(\"siamese\")\n",
    "get_results_from_config_siamese(siamese)"
   ]
  },
  {
   "cell_type": "code",
   "execution_count": 23,
   "metadata": {},
   "outputs": [
    {
     "name": "stdout",
     "output_type": "stream",
     "text": [
      "regular\n",
      "Correlation:  0.6065609977958607\n",
      "Correlation:  0.5887488051457843\n",
      "Correlation:  0.6014486592852943\n",
      "Correlation:  0.5872790947902874\n",
      "Correlation:  0.5986730109466155\n",
      "Correlation:  0.6243410530695497\n",
      "Correlation:  0.5979275114334247\n",
      "Correlation:  0.6150881495394753\n",
      "Correlation:  0.602802362500331\n",
      "Correlation:  0.6071871477690779\n"
     ]
    },
    {
     "data": {
      "text/plain": [
       "[0.6065609977958607,\n",
       " 0.5887488051457843,\n",
       " 0.6014486592852943,\n",
       " 0.5872790947902874,\n",
       " 0.5986730109466155,\n",
       " 0.6243410530695497,\n",
       " 0.5979275114334247,\n",
       " 0.6150881495394753,\n",
       " 0.602802362500331,\n",
       " 0.6071871477690779]"
      ]
     },
     "execution_count": 23,
     "metadata": {},
     "output_type": "execute_result"
    }
   ],
   "source": [
    "reg = []\n",
    "print(\"regular\")\n",
    "get_results_from_config_reg(reg)"
   ]
  },
  {
   "cell_type": "code",
   "execution_count": 22,
   "metadata": {},
   "outputs": [
    {
     "name": "stdout",
     "output_type": "stream",
     "text": [
      "rev_comp\n",
      "Correlation:  0.6518744908896936\n",
      "Correlation:  0.645822818357231\n",
      "Correlation:  0.6676567740641817\n",
      "Correlation:  0.6342374577605511\n",
      "Correlation:  0.6435735796008567\n",
      "Correlation:  0.6269260237237726\n",
      "Correlation:  0.6580098110684358\n",
      "Correlation:  0.6247728579161882\n",
      "Correlation:  0.6399634218385202\n",
      "Correlation:  0.6433358051703892\n"
     ]
    },
    {
     "data": {
      "text/plain": [
       "[0.6518744908896936,\n",
       " 0.645822818357231,\n",
       " 0.6676567740641817,\n",
       " 0.6342374577605511,\n",
       " 0.6435735796008567,\n",
       " 0.6269260237237726,\n",
       " 0.6580098110684358,\n",
       " 0.6247728579161882,\n",
       " 0.6399634218385202,\n",
       " 0.6433358051703892]"
      ]
     },
     "execution_count": 22,
     "metadata": {},
     "output_type": "execute_result"
    }
   ],
   "source": [
    "rc = []\n",
    "print(\"rev_comp\")\n",
    "get_results_from_config_rc(rc)"
   ]
  },
  {
   "cell_type": "code",
   "execution_count": 26,
   "metadata": {},
   "outputs": [
    {
     "name": "stdout",
     "output_type": "stream",
     "text": [
      "13.0000001\n",
      "1e-07\n",
      "7.0000001\n",
      "1e-07\n",
      "3.0000001\n"
     ]
    }
   ],
   "source": [
    "from abstention.figure_making_utils import wilcox_srs\n",
    "print(wilcox_srs(rc, siamese))\n",
    "print(wilcox_srs(rc, reg))\n",
    "print(wilcox_srs(rc, augment))\n",
    "print(wilcox_srs(siamese, reg))\n",
    "print(wilcox_srs(siamese, augment))"
   ]
  },
  {
   "cell_type": "code",
   "execution_count": 31,
   "metadata": {},
   "outputs": [
    {
     "data": {
      "text/plain": [
       "Text(0.5, 0, 'Models')"
      ]
     },
     "execution_count": 31,
     "metadata": {},
     "output_type": "execute_result"
    },
    {
     "data": {
      "image/png": "[encoded data removed]",
      "text/plain": [
       "<Figure size 432x288 with 1 Axes>"
      ]
     },
     "metadata": {
      "needs_background": "light"
     },
     "output_type": "display_data"
    }
   ],
   "source": [
    "import matplot  lib\n",
    "import matplotlib.pyplot as plt\n",
    "import numpy as np\n",
    "labels = [\"regular\", \"siamese\", \"augment\", \"rev_comp\"]\n",
    "fig, ax = plt.subplots()\n",
    "\n",
    "x = np.arange(len(labels))\n",
    "ax.set_xticks(x)\n",
    "ax.set_xticklabels(labels)\n",
    "ax.set_xlabel(\"Models\")"
   ]
  },
  {
   "cell_type": "code",
   "execution_count": null,
   "metadata": {},
   "outputs": [],
   "source": []
  }
 ],
 "metadata": {
  "kernelspec": {
   "display_name": "Python 3",
   "language": "python",
   "name": "python3"
  },
  "language_info": {
   "codemirror_mode": {
    "name": "ipython",
    "version": 3
   },
   "file_extension": ".py",
   "mimetype": "text/x-python",
   "name": "python",
   "nbconvert_exporter": "python",
   "pygments_lexer": "ipython3",
   "version": "3.7.3"
  }
 },
 "nbformat": 4,
 "nbformat_minor": 2
}
