{
 "cells": [
  {
   "cell_type": "code",
   "execution_count": 1,
   "metadata": {},
   "outputs": [
    {
     "name": "stdout",
     "output_type": "stream",
     "text": [
      "Requirement already satisfied: abstention in /users/hannahgz/anaconda3/lib/python3.7/site-packages (0.1.2.1)\n",
      "Requirement already satisfied: scikit-learn>=0.20.0 in /users/hannahgz/anaconda3/lib/python3.7/site-packages (from abstention) (0.20.3)\n",
      "Requirement already satisfied: numpy>=1.9 in /users/hannahgz/anaconda3/lib/python3.7/site-packages (from abstention) (1.16.2)\n",
      "Requirement already satisfied: scipy>=1.1.0 in /users/hannahgz/anaconda3/lib/python3.7/site-packages (from abstention) (1.2.1)\n"
     ]
    }
   ],
   "source": [
    "from __future__ import division, print_function\n",
    "import numpy as np\n",
    "!pip install abstention\n",
    "from abstention.figure_making_utils import wilcox_srs"
   ]
  },
  {
   "cell_type": "code",
   "execution_count": 2,
   "metadata": {},
   "outputs": [],
   "source": [
    "import os\n",
    "files = []\n",
    " \n",
    "for entry in os.scandir('/users/hannahgz/revcomp_experiments/Official/Test1/Results'):\n",
    "    if entry.is_file():\n",
    "        files.append(entry.path)\n",
    "        \n",
    "rc_standard_auroc = []\n",
    "rc_var_auroc = []\n",
    "reg_auroc = []\n",
    "augment_auroc = []\n",
    "siamese_auroc = []\n",
    "\n",
    "rc_standard_auprc = []\n",
    "rc_var_auprc = []\n",
    "reg_auprc = []\n",
    "augment_auprc = []\n",
    "siamese_auprc = []\n",
    "\n",
    "for file in files: \n",
    "    f = open(file, \"r\")\n",
    "    lines = f.readlines()\n",
    "    rc_standard_auroc.append(float(lines[1][6:-1]))\n",
    "    rc_var_auroc.append(float(lines[4][6:-1]))\n",
    "    reg_auroc.append(float(lines[7][6:-1]))\n",
    "    augment_auroc.append(float(lines[10][6:-1]))\n",
    "    siamese_auroc.append(float(lines[13][6:-1]))\n",
    "    \n",
    "    rc_standard_auprc.append(float(lines[2][6:-1]))\n",
    "    rc_var_auprc.append(float(lines[5][6:-1]))\n",
    "    reg_auprc.append(float(lines[8][6:-1]))\n",
    "    augment_auprc.append(float(lines[11][6:-1]))\n",
    "    siamese_auprc.append(float(lines[14][6:-1]))"
   ]
  },
  {
   "cell_type": "code",
   "execution_count": 3,
   "metadata": {},
   "outputs": [
    {
     "data": {
      "text/plain": [
       "[0.4974921175951273,\n",
       " 0.5050732544991239,\n",
       " 0.5015738537076614,\n",
       " 0.7256483146659736,\n",
       " 0.726222480284646,\n",
       " 0.6770362156874385,\n",
       " 0.6642288780743775,\n",
       " 0.50862643965055,\n",
       " 0.6833613866422408,\n",
       " 0.5150746464687501]"
      ]
     },
     "execution_count": 3,
     "metadata": {},
     "output_type": "execute_result"
    }
   ],
   "source": [
    "rc_standard_auroc"
   ]
  },
  {
   "cell_type": "code",
   "execution_count": 4,
   "metadata": {},
   "outputs": [
    {
     "data": {
      "text/plain": [
       "[0.49877970705516916,\n",
       " 0.7095209744172202,\n",
       " 0.7171954040200087,\n",
       " 0.7407989157163336,\n",
       " 0.7373317837743447,\n",
       " 0.727430736542874,\n",
       " 0.72755429003639,\n",
       " 0.7384299212873638,\n",
       " 0.727560369743093,\n",
       " 0.7519102858418397]"
      ]
     },
     "execution_count": 4,
     "metadata": {},
     "output_type": "execute_result"
    }
   ],
   "source": [
    "rc_var_auroc"
   ]
  },
  {
   "cell_type": "code",
   "execution_count": 5,
   "metadata": {},
   "outputs": [
    {
     "data": {
      "text/plain": [
       "[0.7011296233821034,\n",
       " 0.5085717431456708,\n",
       " 0.5914659022421132,\n",
       " 0.5170450648691061,\n",
       " 0.5134534276925884,\n",
       " 0.683032756824422,\n",
       " 0.7259790666731318,\n",
       " 0.7288907286578927,\n",
       " 0.5088925907202075,\n",
       " 0.7588491271031216]"
      ]
     },
     "execution_count": 5,
     "metadata": {},
     "output_type": "execute_result"
    }
   ],
   "source": [
    "reg_auroc"
   ]
  },
  {
   "cell_type": "code",
   "execution_count": 6,
   "metadata": {},
   "outputs": [
    {
     "data": {
      "text/plain": [
       "[0.7516350637762115,\n",
       " 0.7422745763215304,\n",
       " 0.7465257013895634,\n",
       " 0.8233354554143639,\n",
       " 0.8431284001878905,\n",
       " 0.8303655428856574,\n",
       " 0.7446947629535913,\n",
       " 0.7446777985228886,\n",
       " 0.7445493655522499,\n",
       " 0.7593592239708802]"
      ]
     },
     "execution_count": 6,
     "metadata": {},
     "output_type": "execute_result"
    }
   ],
   "source": [
    "augment_auroc"
   ]
  },
  {
   "cell_type": "code",
   "execution_count": 7,
   "metadata": {},
   "outputs": [
    {
     "data": {
      "text/plain": [
       "[0.9286117570764116,\n",
       " 0.8490253867816615,\n",
       " 0.7187560693935964,\n",
       " 0.7064658855408736,\n",
       " 0.635609354010674,\n",
       " 0.7455293103517592,\n",
       " 0.7502870506947197,\n",
       " 0.7372238763488479,\n",
       " 0.8471448742030697,\n",
       " 0.8409932512550444]"
      ]
     },
     "execution_count": 7,
     "metadata": {},
     "output_type": "execute_result"
    }
   ],
   "source": [
    "siamese_auroc"
   ]
  },
  {
   "cell_type": "code",
   "execution_count": 8,
   "metadata": {},
   "outputs": [
    {
     "data": {
      "text/plain": [
       "-1e-07"
      ]
     },
     "execution_count": 8,
     "metadata": {},
     "output_type": "execute_result"
    }
   ],
   "source": [
    "wilcox_srs(rc_standard_auroc, rc_var_auroc)"
   ]
  },
  {
   "cell_type": "code",
   "execution_count": 9,
   "metadata": {},
   "outputs": [
    {
     "data": {
      "text/plain": [
       "-1e-07"
      ]
     },
     "execution_count": 9,
     "metadata": {},
     "output_type": "execute_result"
    }
   ],
   "source": [
    "wilcox_srs(reg_auroc, augment_auroc)"
   ]
  },
  {
   "cell_type": "code",
   "execution_count": 10,
   "metadata": {},
   "outputs": [
    {
     "data": {
      "text/plain": [
       "-1e-07"
      ]
     },
     "execution_count": 10,
     "metadata": {},
     "output_type": "execute_result"
    }
   ],
   "source": [
    "wilcox_srs(rc_var_auroc, augment_auroc)"
   ]
  },
  {
   "cell_type": "code",
   "execution_count": 11,
   "metadata": {},
   "outputs": [
    {
     "data": {
      "text/plain": [
       "-13.0000001"
      ]
     },
     "execution_count": 11,
     "metadata": {},
     "output_type": "execute_result"
    }
   ],
   "source": [
    "wilcox_srs(rc_var_auroc, siamese_auroc)"
   ]
  },
  {
   "cell_type": "code",
   "execution_count": 12,
   "metadata": {},
   "outputs": [
    {
     "data": {
      "text/plain": [
       "27.0000001"
      ]
     },
     "execution_count": 12,
     "metadata": {},
     "output_type": "execute_result"
    }
   ],
   "source": [
    "wilcox_srs(augment_auroc, siamese_auroc)"
   ]
  },
  {
   "cell_type": "code",
   "execution_count": 13,
   "metadata": {},
   "outputs": [],
   "source": [
    "files = []\n",
    " \n",
    "for entry in os.scandir('/users/hannahgz/revcomp_experiments/Official/Test2/Results'):\n",
    "    if entry.is_file():\n",
    "        files.append(entry.path)\n",
    "        \n",
    "rc_standard_auroc_two = []\n",
    "rc_var_auroc_two = []\n",
    "reg_auroc_two = []\n",
    "augment_auroc_two = []\n",
    "siamese_auroc_two = []\n",
    "\n",
    "rc_standard_auprc_two = []\n",
    "rc_var_auprc_two = []\n",
    "reg_auprc_two = []\n",
    "augment_auprc_two = []\n",
    "siamese_auprc_two = []\n",
    "\n",
    "for file in files: \n",
    "    f = open(file, \"r\")\n",
    "    lines = f.readlines()\n",
    "    rc_standard_auroc_two.append(float(lines[1][6:-1]))\n",
    "    rc_var_auroc_two.append(float(lines[4][6:-1]))\n",
    "    reg_auroc_two.append(float(lines[7][6:-1]))\n",
    "    augment_auroc_two.append(float(lines[10][6:-1]))\n",
    "    siamese_auroc_two.append(float(lines[13][6:-1]))\n",
    "    \n",
    "    rc_standard_auprc_two.append(float(lines[2][6:-1]))\n",
    "    rc_var_auprc_two.append(float(lines[5][6:-1]))\n",
    "    reg_auprc_two.append(float(lines[8][6:-1]))\n",
    "    augment_auprc_two.append(float(lines[11][6:-1]))\n",
    "    siamese_auprc_two.append(float(lines[14][6:-1]))"
   ]
  },
  {
   "cell_type": "code",
   "execution_count": 14,
   "metadata": {},
   "outputs": [
    {
     "data": {
      "text/plain": [
       "[0.7314852041044512,\n",
       " 0.7319968220348998,\n",
       " 0.708333426952789,\n",
       " 0.7448287504965134,\n",
       " 0.7354808741925123,\n",
       " 0.8198636357663756,\n",
       " 0.7124945231186605,\n",
       " 0.4906930324137919,\n",
       " 0.7425887402309352,\n",
       " 0.7401571916410434]"
      ]
     },
     "execution_count": 14,
     "metadata": {},
     "output_type": "execute_result"
    }
   ],
   "source": [
    "rc_standard_auroc_two"
   ]
  },
  {
   "cell_type": "code",
   "execution_count": 15,
   "metadata": {},
   "outputs": [
    {
     "data": {
      "text/plain": [
       "[0.7296194318507887,\n",
       " 0.7421529851826655,\n",
       " 0.9322475034689521,\n",
       " 0.5043824232360933,\n",
       " 0.5053649338198039,\n",
       " 0.5205226358193851,\n",
       " 0.7418546260314922,\n",
       " 0.49468854682837166,\n",
       " 0.7465768225652828,\n",
       " 0.7478884910050637]"
      ]
     },
     "execution_count": 15,
     "metadata": {},
     "output_type": "execute_result"
    }
   ],
   "source": [
    "rc_var_auroc_two"
   ]
  },
  {
   "cell_type": "code",
   "execution_count": 16,
   "metadata": {},
   "outputs": [
    {
     "data": {
      "text/plain": [
       "[0.6894268102454183,\n",
       " 0.7405332887337999,\n",
       " 0.737232441597032,\n",
       " 0.6875159112681346,\n",
       " 0.7105241950108458,\n",
       " 0.497720194544637,\n",
       " 0.745473627567066,\n",
       " 0.7326994389694201,\n",
       " 0.8163091999024148,\n",
       " 0.7308281271241791]"
      ]
     },
     "execution_count": 16,
     "metadata": {},
     "output_type": "execute_result"
    }
   ],
   "source": [
    "reg_auroc_two"
   ]
  },
  {
   "cell_type": "code",
   "execution_count": 17,
   "metadata": {},
   "outputs": [
    {
     "data": {
      "text/plain": [
       "[0.7468628982835641,\n",
       " 0.9354794660368837,\n",
       " 0.8845634856721062,\n",
       " 0.8950190787772236,\n",
       " 0.9339007941582185,\n",
       " 0.7502700151370033,\n",
       " 0.7572230953327659,\n",
       " 0.7461275918102581,\n",
       " 0.7487100594897124,\n",
       " 0.9027386113122009]"
      ]
     },
     "execution_count": 17,
     "metadata": {},
     "output_type": "execute_result"
    }
   ],
   "source": [
    "augment_auroc_two"
   ]
  },
  {
   "cell_type": "code",
   "execution_count": 18,
   "metadata": {},
   "outputs": [
    {
     "data": {
      "text/plain": [
       "[0.7620178164533813,\n",
       " 0.9354922481172916,\n",
       " 0.9458226940662728,\n",
       " 0.8893816372532042,\n",
       " 0.7514432259941897,\n",
       " 0.9276493303516207,\n",
       " 0.9312179817055823,\n",
       " 0.7503405977062069,\n",
       " 0.9224667704959639,\n",
       " 0.9229187266182346]"
      ]
     },
     "execution_count": 18,
     "metadata": {},
     "output_type": "execute_result"
    }
   ],
   "source": [
    "siamese_auroc_two"
   ]
  },
  {
   "cell_type": "code",
   "execution_count": 19,
   "metadata": {},
   "outputs": [
    {
     "data": {
      "text/plain": [
       "27.0000001"
      ]
     },
     "execution_count": 19,
     "metadata": {},
     "output_type": "execute_result"
    }
   ],
   "source": [
    "wilcox_srs(rc_standard_auroc_two, rc_var_auroc_two)"
   ]
  },
  {
   "cell_type": "code",
   "execution_count": 20,
   "metadata": {},
   "outputs": [
    {
     "data": {
      "text/plain": [
       "-4.0000001"
      ]
     },
     "execution_count": 20,
     "metadata": {},
     "output_type": "execute_result"
    }
   ],
   "source": [
    "wilcox_srs(reg_auroc_two, augment_auroc_two)"
   ]
  },
  {
   "cell_type": "code",
   "execution_count": 21,
   "metadata": {},
   "outputs": [
    {
     "data": {
      "text/plain": [
       "-4.0000001"
      ]
     },
     "execution_count": 21,
     "metadata": {},
     "output_type": "execute_result"
    }
   ],
   "source": [
    "wilcox_srs(rc_var_auroc_two, augment_auroc_two)"
   ]
  },
  {
   "cell_type": "code",
   "execution_count": 22,
   "metadata": {},
   "outputs": [
    {
     "data": {
      "text/plain": [
       "-1e-07"
      ]
     },
     "execution_count": 22,
     "metadata": {},
     "output_type": "execute_result"
    }
   ],
   "source": [
    "wilcox_srs(rc_var_auroc_two, siamese_auroc_two)"
   ]
  },
  {
   "cell_type": "code",
   "execution_count": 23,
   "metadata": {},
   "outputs": [
    {
     "data": {
      "text/plain": [
       "-13.0000001"
      ]
     },
     "execution_count": 23,
     "metadata": {},
     "output_type": "execute_result"
    }
   ],
   "source": [
    "wilcox_srs(augment_auroc_two, siamese_auroc_two)"
   ]
  },
  {
   "cell_type": "code",
   "execution_count": 24,
   "metadata": {},
   "outputs": [],
   "source": [
    "files = []\n",
    " \n",
    "for entry in os.scandir('/users/hannahgz/revcomp_experiments/Official/Test3/Results'):\n",
    "    if entry.is_file():\n",
    "        files.append(entry.path)\n",
    "        \n",
    "rc_standard_auroc_3 = []\n",
    "rc_var_auroc_3 = []\n",
    "reg_auroc_3 = []\n",
    "augment_auroc_3 = []\n",
    "siamese_auroc_3 = []\n",
    "\n",
    "rc_standard_auprc_3 = []\n",
    "rc_var_auprc_3 = []\n",
    "reg_auprc_3 = []\n",
    "augment_auprc_3 = []\n",
    "siamese_auprc_3 = []\n",
    "\n",
    "for file in files: \n",
    "    f = open(file, \"r\")\n",
    "    lines = f.readlines()\n",
    "    rc_standard_auroc_3.append(float(lines[1][6:-1]))\n",
    "    rc_var_auroc_3.append(float(lines[4][6:-1]))\n",
    "    reg_auroc_3.append(float(lines[7][6:-1]))\n",
    "    augment_auroc_3.append(float(lines[10][6:-1]))\n",
    "    siamese_auroc_3.append(float(lines[13][6:-1]))\n",
    "    \n",
    "    rc_standard_auprc_3.append(float(lines[2][6:-1]))\n",
    "    rc_var_auprc_3.append(float(lines[5][6:-1]))\n",
    "    reg_auprc_3.append(float(lines[8][6:-1]))\n",
    "    augment_auprc_3.append(float(lines[11][6:-1]))\n",
    "    siamese_auprc_3.append(float(lines[14][6:-1]))"
   ]
  },
  {
   "cell_type": "code",
   "execution_count": 25,
   "metadata": {},
   "outputs": [
    {
     "data": {
      "text/plain": [
       "[0.764493632563825,\n",
       " 0.8694809554927657,\n",
       " 0.9365745795706392,\n",
       " 0.7517022361935131,\n",
       " 0.8961242623242641,\n",
       " 0.9445698275238394,\n",
       " 0.946463407381972,\n",
       " 0.951547815217338,\n",
       " 0.752408720454905,\n",
       " 0.5042812014749177]"
      ]
     },
     "execution_count": 25,
     "metadata": {},
     "output_type": "execute_result"
    }
   ],
   "source": [
    "rc_standard_auroc_3"
   ]
  },
  {
   "cell_type": "code",
   "execution_count": 26,
   "metadata": {},
   "outputs": [
    {
     "data": {
      "text/plain": [
       "[0.7515058417972382,\n",
       " 0.5698614311088106,\n",
       " 0.8930738464170715,\n",
       " 0.9587512242042652,\n",
       " 0.9514082200267686,\n",
       " 0.9364610787395147,\n",
       " 0.7443628131973594,\n",
       " 0.9460203205182102,\n",
       " 0.938881314984594,\n",
       " 0.9131169805235857]"
      ]
     },
     "execution_count": 26,
     "metadata": {},
     "output_type": "execute_result"
    }
   ],
   "source": [
    "rc_var_auroc_3"
   ]
  },
  {
   "cell_type": "code",
   "execution_count": 27,
   "metadata": {},
   "outputs": [
    {
     "data": {
      "text/plain": [
       "[0.8639438511350032,\n",
       " 0.5317611671466742,\n",
       " 0.7434180898952072,\n",
       " 0.8817742775904027,\n",
       " 0.934703377546037,\n",
       " 0.91834956204155,\n",
       " 0.9146657369684694,\n",
       " 0.7577350339704048,\n",
       " 0.7562093022659704,\n",
       " 0.7501496898752339]"
      ]
     },
     "execution_count": 27,
     "metadata": {},
     "output_type": "execute_result"
    }
   ],
   "source": [
    "reg_auroc_3"
   ]
  },
  {
   "cell_type": "code",
   "execution_count": 28,
   "metadata": {},
   "outputs": [
    {
     "data": {
      "text/plain": [
       "[0.7746286992166972,\n",
       " 0.9608695931792699,\n",
       " 0.9344541903941959,\n",
       " 0.9498789043527893,\n",
       " 0.8926730034150842,\n",
       " 0.7512860777204121,\n",
       " 0.8859511379686306,\n",
       " 0.9629062124913093,\n",
       " 0.9112942592994366,\n",
       " 0.9647229239873243]"
      ]
     },
     "execution_count": 28,
     "metadata": {},
     "output_type": "execute_result"
    }
   ],
   "source": [
    "augment_auroc_3"
   ]
  },
  {
   "cell_type": "code",
   "execution_count": 29,
   "metadata": {},
   "outputs": [
    {
     "data": {
      "text/plain": [
       "[0.9695372500648565,\n",
       " 0.6198284616870853,\n",
       " 0.922376399166358,\n",
       " 0.6074871275481951,\n",
       " 0.7512304258119128,\n",
       " 0.7648528109032238,\n",
       " 0.9399732608403184,\n",
       " 0.9436841644158795,\n",
       " 0.7232512978325243,\n",
       " 0.9578790168830118]"
      ]
     },
     "execution_count": 29,
     "metadata": {},
     "output_type": "execute_result"
    }
   ],
   "source": [
    "siamese_auroc_3"
   ]
  },
  {
   "cell_type": "code",
   "execution_count": 30,
   "metadata": {},
   "outputs": [
    {
     "data": {
      "text/plain": [
       "-26.0000001"
      ]
     },
     "execution_count": 30,
     "metadata": {},
     "output_type": "execute_result"
    }
   ],
   "source": [
    "wilcox_srs(rc_standard_auroc_3, rc_var_auroc_3)"
   ]
  },
  {
   "cell_type": "code",
   "execution_count": 31,
   "metadata": {},
   "outputs": [
    {
     "data": {
      "text/plain": [
       "-13.0000001"
      ]
     },
     "execution_count": 31,
     "metadata": {},
     "output_type": "execute_result"
    }
   ],
   "source": [
    "wilcox_srs(reg_auroc_3, augment_auroc_3)"
   ]
  },
  {
   "cell_type": "code",
   "execution_count": 32,
   "metadata": {},
   "outputs": [
    {
     "data": {
      "text/plain": [
       "-21.0000001"
      ]
     },
     "execution_count": 32,
     "metadata": {},
     "output_type": "execute_result"
    }
   ],
   "source": [
    "wilcox_srs(rc_var_auroc_3, augment_auroc_3)"
   ]
  },
  {
   "cell_type": "code",
   "execution_count": 33,
   "metadata": {},
   "outputs": [
    {
     "data": {
      "text/plain": [
       "24.0000001"
      ]
     },
     "execution_count": 33,
     "metadata": {},
     "output_type": "execute_result"
    }
   ],
   "source": [
    "wilcox_srs(rc_var_auroc_3, siamese_auroc_3)"
   ]
  },
  {
   "cell_type": "code",
   "execution_count": 34,
   "metadata": {},
   "outputs": [
    {
     "data": {
      "text/plain": [
       "16.0000001"
      ]
     },
     "execution_count": 34,
     "metadata": {},
     "output_type": "execute_result"
    }
   ],
   "source": [
    "wilcox_srs(augment_auroc_3, siamese_auroc_3)"
   ]
  },
  {
   "cell_type": "code",
   "execution_count": null,
   "metadata": {},
   "outputs": [],
   "source": [
    "files = []\n",
    " \n",
    "for entry in os.scandir('/users/hannahgz/revcomp_experiments/Official/Test4/Results'):\n",
    "    if entry.is_file():\n",
    "        files.append(entry.path)\n",
    "        \n",
    "rc_standard_auroc_4 = []\n",
    "rc_var_auroc_4 = []\n",
    "reg_auroc_4 = []\n",
    "augment_auroc_4 = []\n",
    "siamese_auroc_4 = []\n",
    "\n",
    "rc_standard_auprc_4 = []\n",
    "rc_var_auprc_4 = []\n",
    "reg_auprc_4 = []\n",
    "augment_auprc_4 = []\n",
    "siamese_auprc_4 = []\n",
    "\n",
    "for file in files: \n",
    "    f = open(file, \"r\")\n",
    "    lines = f.readlines()\n",
    "    rc_standard_auroc_4.append(float(lines[1][6:-1]))\n",
    "    rc_var_auroc_4.append(float(lines[4][6:-1]))\n",
    "    reg_auroc_4.append(float(lines[7][6:-1]))\n",
    "    augment_auroc_4.append(float(lines[10][6:-1]))\n",
    "    siamese_auroc_4.append(float(lines[13][6:-1]))\n",
    "    \n",
    "    rc_standard_auprc_4.append(float(lines[2][6:-1]))\n",
    "    rc_var_auprc_4.append(float(lines[5][6:-1]))\n",
    "    reg_auprc_4.append(float(lines[8][6:-1]))\n",
    "    augment_auprc_4.append(float(lines[11][6:-1]))\n",
    "    siamese_auprc_4.append(float(lines[14][6:-1]))"
   ]
  },
  {
   "cell_type": "code",
   "execution_count": null,
   "metadata": {},
   "outputs": [],
   "source": [
    "rc_standard_auroc_4"
   ]
  },
  {
   "cell_type": "code",
   "execution_count": null,
   "metadata": {},
   "outputs": [],
   "source": [
    "rc_var_auroc_4"
   ]
  },
  {
   "cell_type": "code",
   "execution_count": null,
   "metadata": {},
   "outputs": [],
   "source": [
    "reg_auroc_4"
   ]
  },
  {
   "cell_type": "code",
   "execution_count": null,
   "metadata": {},
   "outputs": [],
   "source": [
    "augment_auroc_4"
   ]
  },
  {
   "cell_type": "code",
   "execution_count": null,
   "metadata": {},
   "outputs": [],
   "source": [
    "siamese_auroc_4"
   ]
  },
  {
   "cell_type": "code",
   "execution_count": null,
   "metadata": {},
   "outputs": [],
   "source": [
    "wilcox_srs(rc_standard_auroc_4, rc_var_auroc_4)"
   ]
  },
  {
   "cell_type": "code",
   "execution_count": null,
   "metadata": {},
   "outputs": [],
   "source": [
    "wilcox_srs(reg_auroc_4, augment_auroc_4)"
   ]
  },
  {
   "cell_type": "code",
   "execution_count": null,
   "metadata": {},
   "outputs": [],
   "source": [
    "wilcox_srs(rc_var_auroc_4, augment_auroc_4)"
   ]
  },
  {
   "cell_type": "code",
   "execution_count": null,
   "metadata": {},
   "outputs": [],
   "source": [
    "wilcox_srs(rc_var_auroc_4, siamese_auroc_4)"
   ]
  },
  {
   "cell_type": "code",
   "execution_count": null,
   "metadata": {},
   "outputs": [],
   "source": [
    "wilcox_srs(augment_auroc_4, siamese_auroc_4)"
   ]
  },
  {
   "cell_type": "code",
   "execution_count": null,
   "metadata": {},
   "outputs": [],
   "source": [
    "files = []\n",
    " \n",
    "for entry in os.scandir('/users/hannahgz/revcomp_experiments/Official/SiameseCompare/Results'):\n",
    "    if entry.is_file():\n",
    "        files.append(entry.path)\n",
    "        \n",
    "siamese_auroc_avg = []\n",
    "siamese_auroc_max = []\n",
    "\n",
    "siamese_auprc_avg = []\n",
    "siamese_auprc_max = []\n",
    "\n",
    "for file in files: \n",
    "    f = open(file, \"r\")\n",
    "    lines = f.readlines()\n",
    "    siamese_auroc_avg.append(float(lines[1][6:-1]))\n",
    "    siamese_auroc_max.append(float(lines[4][6:-1]))\n",
    "    \n",
    "    siamese_auprc_avg.append(float(lines[2][6:-1]))\n",
    "    siamese_auprc_max.append(float(lines[5][6:-1]))"
   ]
  },
  {
   "cell_type": "code",
   "execution_count": null,
   "metadata": {},
   "outputs": [],
   "source": [
    "wilcox_srs(siamese_auroc_avg, siamese_auroc_max)"
   ]
  }
 ],
 "metadata": {
  "kernelspec": {
   "display_name": "Python 3",
   "language": "python",
   "name": "python3"
  },
  "language_info": {
   "codemirror_mode": {
    "name": "ipython",
    "version": 3
   },
   "file_extension": ".py",
   "mimetype": "text/x-python",
   "name": "python",
   "nbconvert_exporter": "python",
   "pygments_lexer": "ipython3",
   "version": "3.7.3"
  }
 },
 "nbformat": 4,
 "nbformat_minor": 2
}
